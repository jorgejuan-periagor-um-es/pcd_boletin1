{
  "cells": [
    {
      "cell_type": "markdown",
      "id": "abd1096c",
      "metadata": {
        "id": "abd1096c"
      },
      "source": [
        "# BD II -- Sesión Redis\n",
        "\n",
        "![redis svg image](data:image/svg+xml,%3Csvg%20xmlns%3D%22http%3A//www.w3.org/2000/svg%22%20xmlns%3Axlink%3D%22http%3A//www.w3.org/1999/xlink%22%20viewBox%3D%220%200%20368.69%20125.59%22%20class%3D%22w-auto%20h-8%22%3E%20%3Cdefs%3E%20%3Cstyle%3E%20.cls-1%20%7B%20fill%3A%20none%3B%20%7D%20.cls-2%20%7B%20clip-path%3A%20url%28%23clip-path%29%3B%20%7D%20.cls-3%20%7B%20fill%3A%20%23a32422%3B%20%7D%20.cls-4%20%7B%20fill%3A%20%23dc382c%3B%20%7D%20.cls-5%20%7B%20fill%3A%20%23fff%3B%20%7D%20.cls-6%20%7B%20fill%3A%20%23741113%3B%20%7D%20.cls-7%20%7B%20fill%3A%20%23ac2724%3B%20%7D%20%3C/style%3E%20%3CclipPath%20id%3D%22clip-path%22%20transform%3D%22translate%280.01%200.01%29%22%3E%20%3Crect%20class%3D%22cls-1%22%20width%3D%22146.42%22%20height%3D%22125.48%22%3E%3C/rect%3E%20%3C/clipPath%3E%20%3C/defs%3E%20%3Cg%20id%3D%22Layer_2%22%20data-name%3D%22Layer%202%22%3E%20%3Cg%20id%3D%22Layer_1-2%22%20data-name%3D%22Layer%201%22%3E%20%3Cg%20class%3D%22cls-2%22%3E%20%3Cpath%20class%3D%22cls-3%22%20d%3D%22M140.66%2C96.74c-7.8%2C4.08-48.28%2C20.73-57%2C25.3s-13.39%2C4.44-20.21%2C1.18S13.7%2C102.5%2C5.92%2C98.78C2%2C96.94%2C0%2C95.37%2C0%2C93.9V79.09S56.08%2C66.92%2C65.13%2C63.64%2C77.31%2C60.28%2C85%2C63.1%2C138.79%2C74.24%2C146.4%2C77V91.6c0%2C1.52-1.75%2C3-5.74%2C5.13Z%22%20transform%3D%22translate%280.01%200.01%29%22%3E%3C/path%3E%20%3Cpath%20class%3D%22cls-4%22%20d%3D%22M140.66%2C82c-7.8%2C4.06-48.28%2C20.71-57%2C25.2s-13.39%2C4.45-20.21%2C1.2S13.7%2C87.69%2C5.92%2C84s-7.93-6.27-.3-9.25S56.08%2C55%2C65.13%2C51.7%2C77.31%2C48.33%2C85%2C51.16%2C133%2C70%2C140.57%2C72.79s7.92%2C5.08.09%2C9.13Z%22%20transform%3D%22translate%280.01%200.01%29%22%3E%3C/path%3E%20%3Cpath%20class%3D%22cls-3%22%20d%3D%22M140.66%2C72.62c-7.8%2C4.07-48.28%2C20.71-57%2C25.2S70.31%2C102.27%2C63.49%2C99%2C13.7%2C78.37%2C5.92%2C74.66C2%2C72.8%2C0%2C71.24%2C0%2C69.76V55S56.08%2C42.79%2C65.13%2C39.51%2C77.31%2C36.14%2C85%2C39%2C138.79%2C50.1%2C146.4%2C52.88v14.6C146.4%2C69%2C144.65%2C70.52%2C140.66%2C72.62Z%22%20transform%3D%22translate%280.01%200.01%29%22%3E%3C/path%3E%20%3Cpath%20class%3D%22cls-4%22%20d%3D%22M140.66%2C57.81c-7.8%2C4.08-48.28%2C20.72-57%2C25.21s-13.39%2C4.46-20.21%2C1.2S13.7%2C63.57%2C5.92%2C59.85-2%2C53.6%2C5.62%2C50.62s50.46-19.79%2C59.51-23S77.31%2C24.21%2C85%2C27%2C133%2C45.94%2C140.57%2C48.65s7.92%2C5.09.09%2C9.13Z%22%20transform%3D%22translate%280.01%200.01%29%22%3E%3C/path%3E%20%3Cpath%20class%3D%22cls-3%22%20d%3D%22M140.66%2C47.59c-7.8%2C4.08-48.28%2C20.73-57%2C25.21S70.31%2C77.25%2C63.49%2C74%2C13.7%2C53.34%2C5.92%2C49.63C2%2C47.79%2C0%2C46.22%2C0%2C44.74V29.93S56.08%2C17.76%2C65.13%2C14.49%2C77.31%2C11.12%2C85%2C13.94s53.77%2C11.14%2C61.38%2C13.92v14.6C146.4%2C44%2C144.65%2C45.5%2C140.66%2C47.59Z%22%20transform%3D%22translate%280.01%200.01%29%22%3E%3C/path%3E%20%3Cpath%20class%3D%22cls-4%22%20d%3D%22M140.66%2C32.8c-7.8%2C4-48.28%2C20.75-57%2C25.2s-13.39%2C4.44-20.21%2C1.2S13.7%2C38.53%2C5.92%2C34.83s-7.93-6.27-.3-9.25S56.08%2C5.8%2C65.13%2C2.54%2C77.31-.82%2C85%2C2%2C133%2C20.85%2C140.57%2C23.63s7.92%2C5.09.09%2C9.14Z%22%20transform%3D%22translate%280.01%200.01%29%22%3E%3C/path%3E%20%3C/g%3E%20%3Cpolygon%20class%3D%22cls-5%22%20points%3D%2275.51%2011.78%2085.17%208.61%2082.55%2014.87%2092.38%2018.55%2079.71%2019.87%2076.86%2026.71%2072.28%2019.08%2057.63%2017.76%2068.57%2013.82%2065.28%207.76%2075.51%2011.78%2075.51%2011.78%2075.51%2011.78%22%3E%3C/polygon%3E%20%3Cpolygon%20class%3D%22cls-5%22%20points%3D%2276.12%2051.71%2052.44%2041.88%2086.36%2036.67%2076.12%2051.71%2076.12%2051.71%2076.12%2051.71%22%3E%3C/polygon%3E%20%3Cpath%20class%3D%22cls-5%22%20d%3D%22M43.28%2C22.34c10%2C0%2C18.13%2C3.15%2C18.13%2C7s-8.15%2C7-18.13%2C7-18.14-3.15-18.14-7S33.27%2C22.34%2C43.28%2C22.34Z%22%20transform%3D%22translate%280.01%200.01%29%22%3E%3C/path%3E%20%3Cpolygon%20class%3D%22cls-6%22%20points%3D%22107.39%2020.42%20127.46%2028.35%20107.41%2036.28%20107.39%2020.42%20107.39%2020.42%20107.39%2020.42%22%3E%3C/polygon%3E%20%3Cpolygon%20class%3D%22cls-7%22%20points%3D%22107.39%2020.42%20107.41%2036.28%20105.23%2037.13%2085.17%2029.2%20107.39%2020.42%20107.39%2020.42%20107.39%2020.42%22%3E%3C/polygon%3E%20%3Cpath%20class%3D%22cls-5%22%20d%3D%22M193%2C41.4a17.36%2C17.36%2C0%2C0%2C1%2C6.23-4.34%2C20%2C20%2C0%2C0%2C1%2C7.3-1.61%2C6.71%2C6.71%2C0%2C0%2C1%2C5%2C1.61%2C5%2C5%2C0%2C0%2C1%2C1.52%2C3.79%2C5.39%2C5.39%2C0%2C0%2C1-1.52%2C3.79%2C4.9%2C4.9%2C0%2C0%2C1-3.79%2C1.63c-6.24.55-14.9%2C6.77-14.9%2C15.22V80.67a5.57%2C5.57%2C0%2C0%2C1-5.42%2C5.41%2C4.92%2C4.92%2C0%2C0%2C1-3.87-1.67%2C5.36%2C5.36%2C0%2C0%2C1-1.62-3.79v-40a5.35%2C5.35%2C0%2C0%2C1%2C1.62-3.79%2C7.2%2C7.2%2C0%2C0%2C1%2C4.07-1.36%2C5.52%2C5.52%2C0%2C0%2C1%2C5.41%2C5.4Z%22%20transform%3D%22translate%280.01%200.01%29%22%3E%3C/path%3E%20%3Cpath%20class%3D%22cls-5%22%20d%3D%22M258.71%2C59a5.25%2C5.25%2C0%2C0%2C1-1.35%2C3.54%2C6.11%2C6.11%2C0%2C0%2C1-3.79%2C1.62h-32a10.31%2C10.31%2C0%2C0%2C0%2C3.47%2C6.56%2C14.46%2C14.46%2C0%2C0%2C0%2C9.48%2C4.57%2C14.07%2C14.07%2C0%2C0%2C0%2C10.56-2.44%2C5.52%2C5.52%2C0%2C0%2C1%2C4.07-1.63%2C4.65%2C4.65%2C0%2C0%2C1%2C3.51%2C1.36%2C4.41%2C4.41%2C0%2C0%2C1%2C.26%2C6.24c-.08.09-.17.17-.26.26a24.49%2C24.49%2C0%2C0%2C1-17.59%2C6.5A23%2C23%2C0%2C0%2C1%2C217.5%2C78a26.67%2C26.67%2C0%2C0%2C1-7.3-17.9%2C24.31%2C24.31%2C0%2C0%2C1%2C7.3-17.88%2C22.59%2C22.59%2C0%2C0%2C1%2C17.06-7.31%2C22%2C22%2C0%2C0%2C1%2C16.74%2C6.78%2C24.78%2C24.78%2C0%2C0%2C1%2C7.61%2C16.74v.53Zm-24.1-14.35a14.2%2C14.2%2C0%2C0%2C0-9.13%2C3.53%2C13.17%2C13.17%2C0%2C0%2C0-4.33%2C7h28.43a12.39%2C12.39%2C0%2C0%2C0-4.88-6.76%2C17.3%2C17.3%2C0%2C0%2C0-10-3.81%22%20transform%3D%22translate%280.01%200.01%29%22%3E%3C/path%3E%20%3Cpath%20class%3D%22cls-5%22%20d%3D%22M309.66%2C80.12a5.57%2C5.57%2C0%2C0%2C1-5.41%2C5.42%2C5.85%2C5.85%2C0%2C0%2C1-5.42-4.34A23.23%2C23.23%2C0%2C0%2C1%2C285%2C85.54a23.57%2C23.57%2C0%2C0%2C1-17.33-7.31%2C24.14%2C24.14%2C0%2C0%2C1-7.05-17.88%2C25.75%2C25.75%2C0%2C0%2C1%2C7.05-17.87A23.85%2C23.85%2C0%2C0%2C1%2C285%2C34.87a22.34%2C22.34%2C0%2C0%2C1%2C13.53%2C4.34V20.28a4.92%2C4.92%2C0%2C0%2C1%2C1.63-3.79A5.37%2C5.37%2C0%2C0%2C1%2C304%2C14.86a4.92%2C4.92%2C0%2C0%2C1%2C3.79%2C1.63%2C5.36%2C5.36%2C0%2C0%2C1%2C1.63%2C3.79V80.12ZM285.31%2C74.7a12%2C12%2C0%2C0%2C0%2C9.47-4.32%2C14.4%2C14.4%2C0%2C0%2C0%2C0-20A13%2C13%2C0%2C0%2C0%2C285.31%2C46a11.65%2C11.65%2C0%2C0%2C0-9.48%2C4.34%2C14.4%2C14.4%2C0%2C0%2C0%2C0%2C20%2C12.49%2C12.49%2C0%2C0%2C0%2C9.48%2C4.32%22%20transform%3D%22translate%280.01%200.01%29%22%3E%3C/path%3E%20%3Cpath%20class%3D%22cls-5%22%20d%3D%22M325.67%2C20.28v2.18A5.5%2C5.5%2C0%2C0%2C1%2C324%2C26.58a4.64%2C4.64%2C0%2C0%2C1-3.79%2C1.35%2C4.86%2C4.86%2C0%2C0%2C1-3.78-1.61%2C5.44%2C5.44%2C0%2C0%2C1-1.63-4.06v-2a5.28%2C5.28%2C0%2C0%2C1%2C1.63-3.79%2C5.33%2C5.33%2C0%2C0%2C1%2C3.78-1.63A5%2C5%2C0%2C0%2C1%2C324%2C16.49a4.9%2C4.9%2C0%2C0%2C1%2C1.66%2C3.79m-9.13%2C16.53a5.28%2C5.28%2C0%2C0%2C1%2C3.79-1.63%2C4.85%2C4.85%2C0%2C0%2C1%2C3.79%2C1.63%2C5.48%2C5.48%2C0%2C0%2C1%2C1.55%2C4V80.42A4.55%2C4.55%2C0%2C0%2C1%2C324%2C84.21a5.33%2C5.33%2C0%2C0%2C1-3.78%2C1.63%2C4.9%2C4.9%2C0%2C0%2C1-3.79-1.63%2C5.28%2C5.28%2C0%2C0%2C1-1.63-3.79V40.85a5.39%2C5.39%2C0%2C0%2C1%2C1.63-4%22%20transform%3D%22translate%280.01%200.01%29%22%3E%3C/path%3E%20%3Cpath%20class%3D%22cls-5%22%20d%3D%22M364.08%2C40.6a5.29%2C5.29%2C0%2C0%2C1%2C2.17%2C3.24%2C7.17%2C7.17%2C0%2C0%2C1-.54%2C4.06%2C5.4%2C5.4%2C0%2C0%2C1-3.25%2C2.16%2C5.61%2C5.61%2C0%2C0%2C1-4.07-.81c-3.79-2.43-6.75-3.78-9.2-3.78a8.74%2C8.74%2C0%2C0%2C0-6%2C1.88c-1.08.82-1.62%2C1.36-1.62%2C1.9a2%2C2%2C0%2C0%2C0%2C.27%2C1.36%2C3.74%2C3.74%2C0%2C0%2C0%2C1.08.81%2C16.19%2C16.19%2C0%2C0%2C0%2C7.32%2C2.43h0a37.75%2C37.75%2C0%2C0%2C1%2C9.74%2C3%2C13.57%2C13.57%2C0%2C0%2C1%2C6.5%2C5.7%2C13.46%2C13.46%2C0%2C0%2C1-4.06%2C18.67%2C21.79%2C21.79%2C0%2C0%2C1-13%2C4.06c-6.23%2C0-12.18-2.43-17.87-7a5.77%2C5.77%2C0%2C0%2C1-1.9-3.53%2C5.2%2C5.2%2C0%2C0%2C1%2C8.4-4.56%2C15.73%2C15.73%2C0%2C0%2C0%2C11.1%2C4.33%2C11.61%2C11.61%2C0%2C0%2C0%2C6.77-1.9c1.08-1.08%2C1.9-1.89%2C1.9-2.71s0-1.08-.27-1.35c0-.28-.55-.81-1.36-1.08a20.15%2C20.15%2C0%2C0%2C0-8.13-2.86h0a28.26%2C28.26%2C0%2C0%2C1-9.2-3%2C16.56%2C16.56%2C0%2C0%2C1-6.5-5.67%2C12.61%2C12.61%2C0%2C0%2C1-1.61-6.23%2C13.3%2C13.3%2C0%2C0%2C1%2C5.95-11.11%2C21.82%2C21.82%2C0%2C0%2C1%2C12.45-3.79c4.56.28%2C9.48%2C2.16%2C14.89%2C5.69%22%20transform%3D%22translate%280.01%200.01%29%22%3E%3C/path%3E%20%3C/g%3E%20%3C/g%3E%20%3C/svg%3E)\n",
        "\n",
        "En este notebook trabajaremos con la BBDD *Redis* mediante el cliente Python _redis-py_. En particular se trabajará:\n",
        "* El acceso y modificacion de claves individuales\n",
        "* El uso de mecanismos de transaccion y pipelines\n",
        "\n"
      ]
    },
    {
      "cell_type": "markdown",
      "id": "e6a86e0b",
      "metadata": {
        "id": "e6a86e0b"
      },
      "source": [
        "# Contenido\n",
        "1. [Instalacion de Redis](#instalacion)\n",
        "2. [Primeros pasos](#primerospasos)\n",
        "3. [Operaciones CRUD](#crud)\n",
        "4. [Transacciones](#transacciones)\n",
        "5. [Tiempo de vida de la claves](\"#ttl\")\n",
        "6. [Persistencia y snapshots](\"#snapshots\")\n",
        "7. [Trabajando con Stackoverflow](\"#stackoverflow\")\n",
        "8. [Caso de uso](#casodeuso)\n",
        "\n",
        "\n"
      ]
    },
    {
      "cell_type": "markdown",
      "id": "17600658",
      "metadata": {
        "id": "17600658"
      },
      "source": [
        "## Documentación\n",
        "* [Página oficial de Redis](https://redis.io/docs/connect/cli/).\n",
        "* [API de `Redis-py`](https://redis-py.readthedocs.io/en/stable/commands.html#)"
      ]
    },
    {
      "cell_type": "markdown",
      "id": "fe635101",
      "metadata": {
        "id": "fe635101"
      },
      "source": [
        "-------------------------------------------"
      ]
    },
    {
      "cell_type": "code",
      "execution_count": 16,
      "id": "aa6f6d43",
      "metadata": {
        "id": "aa6f6d43"
      },
      "outputs": [],
      "source": [
        "RunningInCOLAB = 'google.colab' in str(get_ipython()) if hasattr(__builtins__,'__IPYTHON__') else False"
      ]
    },
    {
      "cell_type": "markdown",
      "id": "a0933a48",
      "metadata": {
        "id": "a0933a48"
      },
      "source": [
        "## Instalación de Redis <a name=\"instalación\"></a>"
      ]
    },
    {
      "cell_type": "markdown",
      "id": "7465f712",
      "metadata": {
        "id": "7465f712"
      },
      "source": [
        "En primer lugar vamos a instalar la base de datos Redis en nuestro entorno notebook."
      ]
    },
    {
      "cell_type": "code",
      "execution_count": 17,
      "id": "1e7d8133",
      "metadata": {
        "id": "1e7d8133",
        "outputId": "d3281175-d212-4640-fe26-cf842d43cb67",
        "colab": {
          "base_uri": "https://localhost:8080/"
        }
      },
      "outputs": [
        {
          "output_type": "stream",
          "name": "stdout",
          "text": [
            "W: Skipping acquire of configured file 'main/source/Sources' as repository 'https://r2u.stat.illinois.edu/ubuntu jammy InRelease' does not seem to provide it (sources.list entry misspelt?)\n",
            "Reading package lists...\n",
            "Building dependency tree...\n",
            "Reading state information...\n",
            "p7zip is already the newest version (16.02+dfsg-8).\n",
            "0 upgraded, 0 newly installed, 0 to remove and 31 not upgraded.\n",
            "lsb-release is already the newest version (11.1.0ubuntu4).\n",
            "curl is already the newest version (7.81.0-1ubuntu1.20).\n",
            "gpg is already the newest version (2.2.27-3ubuntu2.1).\n",
            "0 upgraded, 0 newly installed, 0 to remove and 31 not upgraded.\n",
            "gpg: cannot open '/dev/tty': No such device or address\n",
            "curl: (23) Failed writing body\n",
            "deb [signed-by=/usr/share/keyrings/redis-archive-keyring.gpg] https://packages.redis.io/deb jammy main\n",
            "W: Skipping acquire of configured file 'main/source/Sources' as repository 'https://r2u.stat.illinois.edu/ubuntu jammy InRelease' does not seem to provide it (sources.list entry misspelt?)\n",
            "Reading package lists...\n",
            "Building dependency tree...\n",
            "Reading state information...\n",
            "redis is already the newest version (6:7.4.2-1rl1~jammy1).\n",
            "0 upgraded, 0 newly installed, 0 to remove and 31 not upgraded.\n"
          ]
        }
      ],
      "source": [
        "!sudo apt-get update -qq\n",
        "!sudo apt-get install -q -y p7zip\n",
        "\n",
        "if RunningInCOLAB:\n",
        "    !sudo apt install -qq -y lsb-release curl gpg\n",
        "    !curl -fsSL https://packages.redis.io/gpg | sudo gpg --dearmor -o /usr/share/keyrings/redis-archive-keyring.gpg\n",
        "    !sudo chmod 644 /usr/share/keyrings/redis-archive-keyring.gpg\n",
        "    !echo \"deb [signed-by=/usr/share/keyrings/redis-archive-keyring.gpg] https://packages.redis.io/deb $(lsb_release -cs) main\" | sudo tee /etc/apt/sources.list.d/redis.list\n",
        "    !sudo apt-get update -qq\n",
        "    !sudo apt-get install -q -y redis"
      ]
    },
    {
      "cell_type": "markdown",
      "id": "6d7c2173",
      "metadata": {
        "id": "6d7c2173"
      },
      "source": [
        "Lanzamos ahora Redis (sólo en Colab; en otras configuraciones se ejecutará como un servidor externo).\n",
        "\n",
        "Con la opción `--deamonize yes` ejecutamos la BD en segundo plano:"
      ]
    },
    {
      "cell_type": "code",
      "execution_count": 18,
      "id": "9d51ba3d",
      "metadata": {
        "id": "9d51ba3d"
      },
      "outputs": [],
      "source": [
        "if RunningInCOLAB:\n",
        "    !redis-server --daemonize yes"
      ]
    },
    {
      "cell_type": "markdown",
      "id": "e4dae6bd",
      "metadata": {
        "id": "e4dae6bd"
      },
      "source": [
        "Vamos hacer ping al servidor usando la línea de comandos."
      ]
    },
    {
      "cell_type": "code",
      "execution_count": 19,
      "id": "7983e630",
      "metadata": {
        "id": "7983e630",
        "outputId": "5a51f781-c783-46c6-9791-8b346e045680",
        "colab": {
          "base_uri": "https://localhost:8080/"
        }
      },
      "outputs": [
        {
          "output_type": "stream",
          "name": "stdout",
          "text": [
            "PONG\n"
          ]
        }
      ],
      "source": [
        "if RunningInCOLAB:\n",
        "    !redis-cli ping"
      ]
    },
    {
      "cell_type": "markdown",
      "id": "851aa0fb",
      "metadata": {
        "id": "851aa0fb"
      },
      "source": [
        "Se instala el paquete que hace de cliente de Redis en Python."
      ]
    },
    {
      "cell_type": "code",
      "execution_count": null,
      "id": "90c68181",
      "metadata": {
        "id": "90c68181"
      },
      "outputs": [],
      "source": [
        "%pip install --upgrade redis"
      ]
    },
    {
      "cell_type": "markdown",
      "id": "7c42c6d5",
      "metadata": {
        "id": "7c42c6d5"
      },
      "source": [
        "Comprobamos que tenemos conectividad con la BD."
      ]
    },
    {
      "cell_type": "code",
      "execution_count": 20,
      "id": "207e54d9",
      "metadata": {
        "id": "207e54d9"
      },
      "outputs": [],
      "source": [
        "import os\n",
        "db_hostname: str = \"localhost\" if RunningInCOLAB else os.getenv('DB_HOSTNAME', \"redis\")"
      ]
    },
    {
      "cell_type": "code",
      "execution_count": 21,
      "id": "8a60c02b",
      "metadata": {
        "id": "8a60c02b",
        "outputId": "39da859d-4367-4135-cc88-f15f5f442c95",
        "colab": {
          "base_uri": "https://localhost:8080/"
        }
      },
      "outputs": [
        {
          "output_type": "execute_result",
          "data": {
            "text/plain": [
              "True"
            ]
          },
          "metadata": {},
          "execution_count": 21
        }
      ],
      "source": [
        "from pprint import pprint as pp\n",
        "from redis import Redis\n",
        "redis_client: Redis = Redis(host = db_hostname, port=6379)\n",
        "\n",
        "redis_client.ping()"
      ]
    },
    {
      "cell_type": "markdown",
      "id": "f3de2c2b",
      "metadata": {
        "id": "f3de2c2b"
      },
      "source": [
        "-------------------------------------------"
      ]
    },
    {
      "cell_type": "markdown",
      "id": "d24e6cbf",
      "metadata": {
        "id": "d24e6cbf"
      },
      "source": [
        "## Primeros pasos con Redis <a name=\"primerospasos\"></a>\n",
        "\n"
      ]
    },
    {
      "cell_type": "markdown",
      "id": "9aab5d09",
      "metadata": {
        "id": "9aab5d09"
      },
      "source": [
        "Con la operación `set` se inserta una clave (`key`) con el valor indicado (`value`). Si la clave ya existe con un valor previo, se sobrescribe, independientemente de su tipo.\n",
        "\n",
        "Con la operación `get` obtenemos el valor de la clave indicada (`key`)."
      ]
    },
    {
      "cell_type": "code",
      "execution_count": 22,
      "id": "d868bddc",
      "metadata": {
        "id": "d868bddc",
        "outputId": "b5553960-2149-4d06-bb88-7be5209ddae4",
        "colab": {
          "base_uri": "https://localhost:8080/"
        }
      },
      "outputs": [
        {
          "output_type": "stream",
          "name": "stdout",
          "text": [
            "b'value'\n"
          ]
        }
      ],
      "source": [
        "redis_client.set('key', b'value')\n",
        "data: bytes | None = redis_client.get('key')\n",
        "print(data)"
      ]
    },
    {
      "cell_type": "markdown",
      "id": "7c919169",
      "metadata": {
        "id": "7c919169"
      },
      "source": [
        "-------------------------------------------"
      ]
    },
    {
      "cell_type": "markdown",
      "id": "71ea31ba",
      "metadata": {
        "id": "71ea31ba"
      },
      "source": [
        "## Tipos de datos fundamentales"
      ]
    },
    {
      "cell_type": "markdown",
      "id": "2f035a58",
      "metadata": {
        "id": "2f035a58"
      },
      "source": [
        "#### Strings"
      ]
    },
    {
      "cell_type": "code",
      "execution_count": 23,
      "id": "ff2dd8a4",
      "metadata": {
        "id": "ff2dd8a4",
        "outputId": "9b7918db-eddb-40a6-8859-4a50f534b647",
        "colab": {
          "base_uri": "https://localhost:8080/"
        }
      },
      "outputs": [
        {
          "output_type": "stream",
          "name": "stdout",
          "text": [
            "b'Juan'\n",
            "b'15'\n"
          ]
        }
      ],
      "source": [
        "redis_client.set(\"nombre\", \"Juan\")\n",
        "redis_client.set(\"años\", '15')\n",
        "\n",
        "nombre: bytes | None = redis_client.get(\"nombre\")\n",
        "años: bytes | None = redis_client.get(\"años\")\n",
        "print(nombre)\n",
        "print(años)"
      ]
    },
    {
      "cell_type": "markdown",
      "id": "5e205ac8",
      "metadata": {
        "id": "5e205ac8"
      },
      "source": [
        "Por defecto, Redis devuelve respuestas de tipo `byte`. Para poder decodificarlas al formato correcto debemos usar el método `.decode()` (por defecto se utiliza el juego de caracteres UTF-8."
      ]
    },
    {
      "cell_type": "code",
      "execution_count": 24,
      "id": "0f576c76",
      "metadata": {
        "id": "0f576c76",
        "outputId": "de8a45d8-14e7-4059-fa5c-66bc41a29a15",
        "colab": {
          "base_uri": "https://localhost:8080/"
        }
      },
      "outputs": [
        {
          "output_type": "stream",
          "name": "stdout",
          "text": [
            "Juan\n",
            "15\n"
          ]
        }
      ],
      "source": [
        "print(nombre.decode() if nombre else None)\n",
        "print(años.decode() if años else None)"
      ]
    },
    {
      "cell_type": "markdown",
      "id": "9c7840e1",
      "metadata": {
        "id": "9c7840e1"
      },
      "source": [
        "#### Listas"
      ]
    },
    {
      "cell_type": "markdown",
      "id": "8e31d7ab",
      "metadata": {
        "id": "8e31d7ab"
      },
      "source": [
        "Redis permite asociar listas a una determinada clave con el método `.lpush()`. Con el método `.lrange()` se obtienen elementos de una lista según el rango indicado (-1 indica hasta el último). Por ejemplo:"
      ]
    },
    {
      "cell_type": "code",
      "execution_count": 25,
      "id": "c3b3c365",
      "metadata": {
        "id": "c3b3c365",
        "outputId": "36ee00ec-9aff-43a7-82b0-74dc56dd4a9f",
        "colab": {
          "base_uri": "https://localhost:8080/"
        }
      },
      "outputs": [
        {
          "output_type": "stream",
          "name": "stdout",
          "text": [
            "[b'3', b'2', b'1', b'3', b'2', b'1']\n"
          ]
        }
      ],
      "source": [
        "redis_client.lpush(\"nums\", 1)\n",
        "redis_client.lpush(\"nums\", 2)\n",
        "redis_client.lpush(\"nums\", 3)\n",
        "\n",
        "numbers: list = redis_client.lrange(\"nums\", 0, -1)\n",
        "print(numbers)"
      ]
    },
    {
      "cell_type": "code",
      "source": [
        "redis_client.rpush(\"nums2\", 1)\n",
        "redis_client.rpush(\"nums2\", 2)\n",
        "redis_client.rpush(\"nums2\", 3)\n",
        "\n",
        "numbers2: list = redis_client.lrange(\"nums2\", 0, -1)\n",
        "print(numbers2)"
      ],
      "metadata": {
        "id": "FaC99QXrmZTI"
      },
      "id": "FaC99QXrmZTI",
      "execution_count": null,
      "outputs": []
    },
    {
      "cell_type": "markdown",
      "id": "273842b0",
      "metadata": {
        "id": "273842b0"
      },
      "source": [
        "#### Conjuntos"
      ]
    },
    {
      "cell_type": "markdown",
      "id": "4b787750",
      "metadata": {
        "id": "4b787750"
      },
      "source": [
        "También se pueden asociar un conjunto (set) a una clave con el método `.sadd()`. El método `.smembers()` devuelve todos los miembros del conjunto."
      ]
    },
    {
      "cell_type": "code",
      "execution_count": null,
      "id": "b6fed7a6",
      "metadata": {
        "id": "b6fed7a6"
      },
      "outputs": [],
      "source": [
        "redis_client.sadd(\"fruits\", \"apple\")\n",
        "redis_client.sadd(\"fruits\", \"banana\")\n",
        "redis_client.sadd(\"fruits\", \"orange\")\n",
        "\n",
        "fruits: set = redis_client.smembers(\"fruits\")\n",
        "print(fruits)"
      ]
    },
    {
      "cell_type": "markdown",
      "id": "da8ae0a7",
      "metadata": {
        "id": "da8ae0a7"
      },
      "source": [
        "#### Hash"
      ]
    },
    {
      "cell_type": "markdown",
      "id": "c193fa1f",
      "metadata": {
        "id": "c193fa1f"
      },
      "source": [
        "Redis dispone del método `.hset()` para establecer un campo y su valor en un hash. El método `.hgetall()` devuelve todos los valores asociados a un hash. Por ejemplo:"
      ]
    },
    {
      "cell_type": "code",
      "execution_count": null,
      "id": "a82e110e",
      "metadata": {
        "id": "a82e110e"
      },
      "outputs": [],
      "source": [
        "redis_client.hset(\"user:1\", \"name\", \"Alice\")\n",
        "redis_client.hset(\"user:1\", \"age\", 30)\n",
        "\n",
        "user_data: dict = redis_client.hgetall(\"user:1\")\n",
        "print(user_data)"
      ]
    },
    {
      "cell_type": "markdown",
      "id": "081a936e",
      "metadata": {
        "id": "081a936e"
      },
      "source": [
        "-------------------------------------------"
      ]
    },
    {
      "cell_type": "markdown",
      "id": "f1e32891",
      "metadata": {
        "id": "f1e32891"
      },
      "source": [
        "### Claves anidadas"
      ]
    },
    {
      "cell_type": "markdown",
      "id": "89cee121",
      "metadata": {
        "id": "89cee121"
      },
      "source": [
        "Con Redis-py también podemos añadir varias claves a la vez usando para ello el método `.mset()`:"
      ]
    },
    {
      "cell_type": "code",
      "execution_count": null,
      "id": "d281620c",
      "metadata": {
        "id": "d281620c"
      },
      "outputs": [],
      "source": [
        "redis_client.mset({\"Croacia\": \"Zagreb\", \"Bahamas\": \"Nassau\"})\n",
        "redis_client.get(\"Bahamas\")"
      ]
    },
    {
      "cell_type": "markdown",
      "id": "53c4bc4d",
      "metadata": {
        "id": "53c4bc4d"
      },
      "source": [
        "También podemos crear claves anidadas tales como:\n"
      ]
    },
    {
      "cell_type": "code",
      "execution_count": null,
      "id": "1e892e9b",
      "metadata": {
        "id": "1e892e9b"
      },
      "outputs": [],
      "source": [
        "data: dict[str, dict] = {\n",
        "    \"upct\": {\n",
        "        \"url\": \"https://upct.es/\",\n",
        "        \"País\": \"España\",\n",
        "        \"nombre_completo\": \"Universidad Politécnica de Cartagena\",\n",
        "        \"num_estudiantes\": 4564\n",
        "    }\n",
        "}"
      ]
    },
    {
      "cell_type": "code",
      "execution_count": null,
      "id": "7e871d91",
      "metadata": {
        "id": "7e871d91"
      },
      "outputs": [],
      "source": [
        "redis_client.hset('upct',mapping=data['upct'])"
      ]
    },
    {
      "cell_type": "code",
      "execution_count": null,
      "id": "1cfe90fe",
      "metadata": {
        "id": "1cfe90fe"
      },
      "outputs": [],
      "source": [
        "redis_client.hgetall('upct')"
      ]
    },
    {
      "cell_type": "markdown",
      "id": "f0ac1f29",
      "metadata": {
        "id": "f0ac1f29"
      },
      "source": [
        "Con dichas claves anidadas podemos hacer uso de los métodos `hincrby` para incrementar o decrementar un valor."
      ]
    },
    {
      "cell_type": "code",
      "execution_count": null,
      "id": "a09bc808",
      "metadata": {
        "id": "a09bc808"
      },
      "outputs": [],
      "source": [
        "redis_client.hincrby(\"upct\", \"num_estudiantes\", -100)\n",
        "redis_client.hget(\"upct\", \"num_estudiantes\")"
      ]
    },
    {
      "cell_type": "markdown",
      "id": "0f805103",
      "metadata": {
        "id": "0f805103"
      },
      "source": [
        "### Tipos de claves"
      ]
    },
    {
      "cell_type": "markdown",
      "id": "4f37ab15",
      "metadata": {
        "id": "4f37ab15"
      },
      "source": [
        "Vamos a intentar insertar una tupla clave-valor en donde la clave sea una fecha..."
      ]
    },
    {
      "cell_type": "code",
      "execution_count": null,
      "id": "38cdd4f5",
      "metadata": {
        "id": "38cdd4f5"
      },
      "outputs": [],
      "source": [
        "import datetime\n",
        "from datetime import date\n",
        "\n",
        "today: date = datetime.date.today()\n",
        "visitantes: set[str] = {\"dan\", \"jon\", \"alex\"}\n",
        "try:\n",
        "    redis_client.sadd(today, *visitantes)\n",
        "except Exception as e:\n",
        "    print(e)"
      ]
    },
    {
      "cell_type": "markdown",
      "id": "7c51760b",
      "metadata": {
        "id": "7c51760b"
      },
      "source": [
        "¿Qué ha pasado? Pues que `Redis-py` requiere que las claves tengan tipo `byte`, `str`, `int` o  `float`. Por tanto, si queremos user una fecha como clave debemos transformarla a uno de esos formatos:"
      ]
    },
    {
      "cell_type": "code",
      "execution_count": null,
      "id": "97ef6d59",
      "metadata": {
        "id": "97ef6d59"
      },
      "outputs": [],
      "source": [
        "stoday: str = today.isoformat()\n",
        "stoday"
      ]
    },
    {
      "cell_type": "code",
      "execution_count": null,
      "id": "c527988a",
      "metadata": {
        "id": "c527988a"
      },
      "outputs": [],
      "source": [
        "redis_client.sadd(stoday, *visitantes)  # sadd: set-add"
      ]
    },
    {
      "cell_type": "markdown",
      "id": "925292a6",
      "metadata": {
        "id": "925292a6"
      },
      "source": [
        "Con `smembers`podemos obtener todos los miembros del conjunto `stoday`."
      ]
    },
    {
      "cell_type": "code",
      "execution_count": null,
      "id": "96a70ab6",
      "metadata": {
        "id": "96a70ab6"
      },
      "outputs": [],
      "source": [
        "redis_client.smembers(stoday)"
      ]
    },
    {
      "cell_type": "markdown",
      "id": "a54295c2",
      "metadata": {
        "id": "a54295c2"
      },
      "source": [
        "Ahora obtenemos el número de elementos del conjunto con `scard`."
      ]
    },
    {
      "cell_type": "code",
      "execution_count": null,
      "id": "384f5b09",
      "metadata": {
        "id": "384f5b09"
      },
      "outputs": [],
      "source": [
        "redis_client.scard(today.isoformat())"
      ]
    },
    {
      "cell_type": "markdown",
      "id": "d5570919",
      "metadata": {
        "id": "d5570919"
      },
      "source": [
        "-------------------------------------------"
      ]
    },
    {
      "cell_type": "markdown",
      "id": "ddd41181",
      "metadata": {
        "id": "ddd41181"
      },
      "source": [
        "## Operaciones CRUD <a name=\"crud\"></a>"
      ]
    },
    {
      "cell_type": "code",
      "execution_count": null,
      "id": "98816f7d",
      "metadata": {
        "id": "98816f7d"
      },
      "outputs": [],
      "source": [
        "redis_client.set(\"username\", \"john_doe\")\n",
        "\n",
        "username: bytes | None = redis_client.get(\"username\")\n",
        "print(username.decode() if username else None)\n",
        "\n",
        "redis_client.set(\"email\", \"john@example.com\", nx=True)\n",
        "\n",
        "redis_client.delete(\"username\")\n",
        "\n",
        "key_exists: int = redis_client.exists(\"email\")\n",
        "print(key_exists)"
      ]
    },
    {
      "cell_type": "markdown",
      "id": "a1d2b9b4",
      "metadata": {
        "id": "a1d2b9b4"
      },
      "source": [
        "-------------------------------------------"
      ]
    },
    {
      "cell_type": "markdown",
      "id": "e9f0c34f",
      "metadata": {
        "id": "e9f0c34f"
      },
      "source": [
        "## Transacciones <a name=\"transacciones\"></a>"
      ]
    },
    {
      "cell_type": "markdown",
      "id": "adbd88dd",
      "metadata": {
        "id": "adbd88dd"
      },
      "source": [
        "A fin de realizar transacciones debemos de usar los siguientes comandos:\n",
        "* `.watch()`: permite monitorizar las claves sobre las cuales vamos a trabajar.\n",
        "* `.multi()`: inicia el almacenado de comandos en una lista.\n",
        "* `.execute()`: ejecuta todos los comanandos almacenados en la lista.\n",
        "\n",
        "Dos ejemplos de monitorización de claves serían: Evitar duplicidades de claves mientras se da de alta un usuario en un sistema, que no se duplique el\n",
        "username cuando dos usuarios se estén dando de alta al mismo tiempo. Otro ejemplo, que dos usuarios vayan a incrementar un voto positivo\n",
        "sobre un post y haya una condición de carrera."
      ]
    },
    {
      "cell_type": "code",
      "execution_count": null,
      "id": "d06c034a",
      "metadata": {
        "id": "d06c034a"
      },
      "outputs": [],
      "source": [
        "from redis import WatchError\n",
        "\n",
        "with redis_client.pipeline() as pipe:\n",
        "    while True:\n",
        "        try:\n",
        "            pipe.watch('key1', 'key2', 'key3')\n",
        "            pipe.multi()\n",
        "\n",
        "            pipe.set('key1', 'valor1')\n",
        "            pipe.set('key2', 'valor2')\n",
        "            pipe.set('key3', 'valor3')\n",
        "\n",
        "            pipe.execute()\n",
        "            break\n",
        "\n",
        "        except WatchError:\n",
        "            continue"
      ]
    },
    {
      "cell_type": "code",
      "execution_count": null,
      "id": "0ec2239d",
      "metadata": {
        "id": "0ec2239d"
      },
      "outputs": [],
      "source": [
        "redis_client.get('key1')"
      ]
    },
    {
      "cell_type": "markdown",
      "id": "010eaeef",
      "metadata": {
        "id": "010eaeef"
      },
      "source": [
        "-------------------------------------------"
      ]
    },
    {
      "cell_type": "markdown",
      "id": "56e5c285",
      "metadata": {
        "id": "56e5c285"
      },
      "source": [
        "## Tiempo de vida de la claves <a name=\"ttl\"></a>"
      ]
    },
    {
      "cell_type": "markdown",
      "id": "b960454a",
      "metadata": {
        "id": "b960454a"
      },
      "source": [
        "La definición de claves-valor con un tiempo de vida determinado es una de las funcionalidades más interesantes de Redis. Esto se podría usar para dar un tiempo de vida a las contraseñas, por ejemplo.\n",
        "\n",
        "Podemos lograr esto mediante el método `setex`."
      ]
    },
    {
      "cell_type": "code",
      "execution_count": null,
      "id": "cf6022c5",
      "metadata": {
        "id": "cf6022c5"
      },
      "outputs": [],
      "source": [
        "from datetime import timedelta\n",
        "\n",
        "# setex: \"SET\" con expiración\n",
        "redis_client.setex(\n",
        "  \"estrella_fugaz\",\n",
        "  timedelta(minutes=1),\n",
        "  value=\"pide un deseo\"\n",
        ")"
      ]
    },
    {
      "cell_type": "markdown",
      "id": "187ff502",
      "metadata": {
        "id": "187ff502"
      },
      "source": [
        "Podemos consultar el tiempo de vida que le queda a un determinada clave con los siguientes métodos."
      ]
    },
    {
      "cell_type": "code",
      "execution_count": null,
      "id": "58e62a20",
      "metadata": {
        "id": "58e62a20"
      },
      "outputs": [],
      "source": [
        "redis_client.ttl(\"estrella_fugaz\")  # \"Time To Live\" (tiempo de vida), en segundos"
      ]
    },
    {
      "cell_type": "code",
      "execution_count": null,
      "id": "adbcf62f",
      "metadata": {
        "id": "adbcf62f"
      },
      "outputs": [],
      "source": [
        "redis_client.pttl(\"estrella_fugaz\")  # Como ttl, pero en milisegundos"
      ]
    },
    {
      "cell_type": "markdown",
      "id": "e3f5abf6",
      "metadata": {
        "id": "e3f5abf6"
      },
      "source": [
        "Podemos adelantar el momento en que expira una clave\n",
        "con el método `.expire()`."
      ]
    },
    {
      "cell_type": "code",
      "execution_count": null,
      "id": "4ae12113",
      "metadata": {
        "id": "4ae12113"
      },
      "outputs": [],
      "source": [
        "redis_client.setex(\n",
        "  \"estrella_fugaz\",\n",
        "  timedelta(minutes=1),\n",
        "  value=\"pide un deseo\"\n",
        ")\n",
        "redis_client.get(\"estrella_fugaz\")  # Not expired yet"
      ]
    },
    {
      "cell_type": "code",
      "execution_count": null,
      "id": "8ef51bd9",
      "metadata": {
        "id": "8ef51bd9"
      },
      "outputs": [],
      "source": [
        "redis_client.exists(\"estrella_fugaz\")"
      ]
    },
    {
      "cell_type": "code",
      "execution_count": null,
      "id": "22874005",
      "metadata": {
        "id": "22874005"
      },
      "outputs": [],
      "source": [
        "redis_client.expire(\"estrella_fugaz\", timedelta(seconds=3))  # Establecemos una nueva ventana de expiración"
      ]
    },
    {
      "cell_type": "code",
      "execution_count": null,
      "id": "50cfc31b",
      "metadata": {
        "id": "50cfc31b"
      },
      "outputs": [],
      "source": [
        "redis_client.get(\"estrella_fugaz\")"
      ]
    },
    {
      "cell_type": "code",
      "execution_count": null,
      "id": "e4d3daaf",
      "metadata": {
        "id": "e4d3daaf"
      },
      "outputs": [],
      "source": [
        "redis_client.exists(\"estrella_fugaz\")"
      ]
    },
    {
      "cell_type": "markdown",
      "id": "09c569a0",
      "metadata": {
        "id": "09c569a0"
      },
      "source": [
        "-------------------------------------------"
      ]
    },
    {
      "cell_type": "markdown",
      "id": "0d74b9ba",
      "metadata": {
        "id": "0d74b9ba"
      },
      "source": [
        "## Persistencia y snapshots <a name=\"snapshots\"></a>\n",
        "\n",
        "Una de las razones por las cuales Redis es tan rápido es que la base de datos se almacena en la RAM. Sin embargo una BD Redis también puede persistirse en disco."
      ]
    },
    {
      "cell_type": "code",
      "execution_count": null,
      "id": "f9b6acd3",
      "metadata": {
        "id": "f9b6acd3"
      },
      "outputs": [],
      "source": [
        "redis_client.lastsave()  # Redis command: LASTSAVE"
      ]
    },
    {
      "cell_type": "code",
      "execution_count": null,
      "id": "68c89104",
      "metadata": {
        "id": "68c89104"
      },
      "outputs": [],
      "source": [
        "redis_client.bgsave()"
      ]
    },
    {
      "cell_type": "code",
      "execution_count": null,
      "id": "42495adc",
      "metadata": {
        "id": "42495adc"
      },
      "outputs": [],
      "source": [
        "redis_client.lastsave()"
      ]
    },
    {
      "cell_type": "markdown",
      "id": "3d45a026",
      "metadata": {
        "id": "3d45a026"
      },
      "source": [
        "-------------------------------------------"
      ]
    },
    {
      "cell_type": "markdown",
      "id": "f5eaaed2",
      "metadata": {
        "id": "f5eaaed2"
      },
      "source": [
        "## Trabajando con los ficheros Stackoverflow <a name=\"stackoverflow\"></a>\n",
        "\n"
      ]
    },
    {
      "cell_type": "markdown",
      "id": "40db1e1b",
      "metadata": {
        "id": "40db1e1b"
      },
      "source": [
        "Descargamos los ficheros CSV del repositorio de datos y los descomprimimos."
      ]
    },
    {
      "cell_type": "code",
      "execution_count": null,
      "id": "291fd47d",
      "metadata": {
        "id": "291fd47d"
      },
      "outputs": [],
      "source": [
        "!wget https://github.com/dsevilla/bd2-data/raw/main/es.stackoverflow/es.stackoverflow.csv.7z.001\n",
        "!wget https://github.com/dsevilla/bd2-data/raw/main/es.stackoverflow/es.stackoverflow.csv.7z.002"
      ]
    },
    {
      "cell_type": "code",
      "execution_count": null,
      "id": "62dd6906",
      "metadata": {
        "id": "62dd6906"
      },
      "outputs": [],
      "source": [
        "!7zr x es.stackoverflow.csv.7z.001\n",
        "!rm -rf es.stackoverflow.csv.7z.*"
      ]
    },
    {
      "cell_type": "code",
      "execution_count": null,
      "id": "3b69573a",
      "metadata": {
        "id": "3b69573a"
      },
      "outputs": [],
      "source": [
        "!head Tags.csv"
      ]
    },
    {
      "cell_type": "code",
      "execution_count": null,
      "id": "c5f8b1da",
      "metadata": {
        "id": "c5f8b1da"
      },
      "outputs": [],
      "source": [
        "!head Posts.csv"
      ]
    },
    {
      "cell_type": "code",
      "execution_count": null,
      "id": "55e1daa1",
      "metadata": {
        "id": "55e1daa1"
      },
      "outputs": [],
      "source": [
        "from collections.abc import Generator, Iterable, Iterator\n",
        "import csv\n",
        "from tqdm import tqdm\n",
        "\n",
        "def csv_to_redis(file: str, prefix: str, id_field: str, redis_client: Redis) -> None:\n",
        "    \"\"\"\n",
        "    Carga un fichero CSV en Redis. file especifica el fichero, prefix el prefijo que\n",
        "    se usará para los elementos\n",
        "    \"\"\"\n",
        "    def batched(iterable: Iterable, n: int) -> Generator[list[str]]:\n",
        "        from itertools import islice\n",
        "        if n < 1:\n",
        "            raise ValueError('n must be at least one')\n",
        "        it: Iterator = iter(iterable)\n",
        "        while batch := list(islice(it, n)):\n",
        "            yield batch\n",
        "\n",
        "    with open(file, encoding='utf-8') as f:\n",
        "        # La llamada csv.reader() crea un iterador sobre un fichero CSV\n",
        "        reader = csv.reader(f, dialect='excel')\n",
        "\n",
        "        # Se leen las columnas. Sus nombres se usarán para crear las diferentes columnas en la familia\n",
        "        columns: list[str] = next(reader)\n",
        "\n",
        "        # Calcular qué número de columna es la que lleva el id_field\n",
        "        id_field_pos: int = columns.index(id_field)\n",
        "\n",
        "        for batch in batched(tqdm(reader, desc=f\"Leyendo e insertando filas {prefix}...\"), n=10000):\n",
        "            docs: dict[str, dict[str, str]] = {}\n",
        "            for row in batch:\n",
        "                id: str = row[id_field_pos]\n",
        "                docs[f\"{prefix}{id}\"] = dict(zip(columns, row))\n",
        "\n",
        "            for k, v in docs.items():\n",
        "              redis_client.hset(k, mapping=v)\n"
      ]
    },
    {
      "cell_type": "markdown",
      "id": "b929864e",
      "metadata": {
        "id": "b929864e"
      },
      "source": [
        "Primero eliminamos todas las claves que ya hubiera en la base de datos."
      ]
    },
    {
      "cell_type": "code",
      "execution_count": null,
      "id": "e38c7a5b",
      "metadata": {
        "id": "e38c7a5b"
      },
      "outputs": [],
      "source": [
        "cursor: int = 0\n",
        "while True:\n",
        "    cursor, keys = redis_client.scan(cursor, match=\"*\", count=1000)\n",
        "    if keys:\n",
        "        redis_client.delete(*keys)\n",
        "    if cursor == 0:\n",
        "        break"
      ]
    },
    {
      "cell_type": "markdown",
      "id": "70f55e0b",
      "metadata": {
        "id": "70f55e0b"
      },
      "source": [
        "Como los Posts y los Tags los usaremos a continuación, los cargamos síncronamente, y el resto, en hilos en segundo plano."
      ]
    },
    {
      "cell_type": "code",
      "execution_count": null,
      "id": "02958a36",
      "metadata": {
        "id": "02958a36"
      },
      "outputs": [],
      "source": [
        "csv_to_redis('Posts.csv', 'post:', 'Id', redis_client)\n",
        "csv_to_redis('Tags.csv', 'tag:', 'Id', redis_client)"
      ]
    },
    {
      "cell_type": "markdown",
      "id": "3636bf55",
      "metadata": {
        "id": "3636bf55"
      },
      "source": [
        "A continuación se insertan todos los demás ficheros CSV en Redis. Como en los ejemplos posteriores no se utilizan estos ficheros, no se realiza el proceso realmente. Se deja comentado. Para ejecutar, eliminar los comentarios. La ejecución se realiza utilizando un proceso en segundo plano (un hilo)."
      ]
    },
    {
      "cell_type": "code",
      "execution_count": null,
      "id": "dd2f6016",
      "metadata": {
        "id": "dd2f6016"
      },
      "outputs": [],
      "source": [
        "%%capture insert_output\n",
        "#users_insert_thread = multiprocessing.Process(target=csv_to_redis, args=('Users.csv', 'user:', 'Id', redis_client), daemon=True)\n",
        "#users_insert_thread.start()\n",
        "\n",
        "#comments_insert_thread = multiprocessing.Process(target=csv_to_redis, args=('Comments.csv', 'comment:', 'Id', redis_client), daemon=True)\n",
        "#comments_insert_thread.start()\n",
        "\n",
        "#votes_insert_thread = multiprocessing.Process(target=csv_to_redis, args=('Votes.csv', 'vote:', 'Id', redis_client), daemon=True)\n",
        "#votes_insert_thread.start()"
      ]
    },
    {
      "cell_type": "code",
      "execution_count": null,
      "id": "8f8d22e0",
      "metadata": {
        "id": "8f8d22e0"
      },
      "outputs": [],
      "source": [
        "#users_insert_thread.is_alive()"
      ]
    },
    {
      "cell_type": "markdown",
      "id": "d524360a",
      "metadata": {
        "id": "d524360a"
      },
      "source": [
        "Veamos ahora cómo han quedado:"
      ]
    },
    {
      "cell_type": "code",
      "execution_count": null,
      "id": "d9ff541e",
      "metadata": {
        "id": "d9ff541e"
      },
      "outputs": [],
      "source": [
        "pp(redis_client.hgetall('post:1'))"
      ]
    },
    {
      "cell_type": "code",
      "execution_count": null,
      "id": "90d432ad",
      "metadata": {
        "id": "90d432ad"
      },
      "outputs": [],
      "source": [
        "pp(redis_client.hgetall('tag:1'))"
      ]
    },
    {
      "cell_type": "markdown",
      "id": "08cb6df5",
      "metadata": {
        "id": "08cb6df5"
      },
      "source": [
        "## Optimizaciones posibles con Redis para consultas usando índices secundarios\n",
        "\n",
        "Redis no ofrece un lenguaje de consulta como tal, aunque hay *plugins* que ofrecen algún lenguaje sencillo.\n",
        "\n",
        "No obstante, con Redis tenemos el poder de construir cualquier artificio para acelerar las búsquedas. Esta es la parte buena. La parte mala es que hay que saber cómo hacerlo, y también hay varias opciones para hacerlo."
      ]
    },
    {
      "cell_type": "markdown",
      "id": "83a42ffd",
      "metadata": {
        "id": "83a42ffd"
      },
      "source": [
        "### Búsqueda sin índice\n",
        "\n",
        "Redis permite, como todos los sistemas, buscar un elemento en toda una base de datos. Ofrece la operación \"`SCAN`\", que incluso permite restringir la forma de las claves que quiere recuperar. Problema: **MUY MUY LENTO**, no usable en producción a no ser que sea para algo muy concreto o que no se pueda hacer de otra forma.\n",
        "\n",
        "Por ejemplo, **listar los tags**:\n",
        "\n",
        "https://redis-py.readthedocs.io/en/stable/commands.html#redis.commands.core.CoreCommands.scan_iter"
      ]
    },
    {
      "cell_type": "code",
      "execution_count": null,
      "id": "5c48d4db",
      "metadata": {
        "id": "5c48d4db"
      },
      "outputs": [],
      "source": [
        "tags: Iterator = redis_client.scan_iter(match=b'tag:*')\n",
        "for t in tags:\n",
        "  print(t)"
      ]
    },
    {
      "cell_type": "markdown",
      "id": "93d0e7f5",
      "metadata": {
        "id": "93d0e7f5"
      },
      "source": [
        "### Ejemplo 1: Posts de cada tag\n",
        "\n",
        "Como primer ejemplo, pongamos que queremos tener siempre actualizado los posts de cada uno de los tags que hay en la BD. Veamos cómo se podría hacer. Por supuesto hay varias opciones para hacerlo. Se utiliza un **conjunto** para almacenar los posts.\n",
        "\n",
        "Lo haremos usando el nombre del tag, que se puede obtener de los Posts. Se podría hacer con el Id del tag, que habría que hacer otro paso más (¿cuál?)"
      ]
    },
    {
      "cell_type": "code",
      "execution_count": null,
      "id": "d134e99c",
      "metadata": {
        "id": "d134e99c"
      },
      "outputs": [],
      "source": [
        "import re\n",
        "\n",
        "posts: Iterator = redis_client.scan_iter(match=b'post:*')\n",
        "for p_key in tqdm(posts, desc=\"Procesando posts...\"):\n",
        "  post_tags: str = redis_client.hget(p_key, 'Tags').decode()\n",
        "\n",
        "  # Encontrar todos los tags separados por <xxx>\n",
        "  for tag in re.findall(r'<(.*?)>', post_tags):\n",
        "    redis_client.sadd(f\"poststag:{tag}\", p_key)"
      ]
    },
    {
      "cell_type": "markdown",
      "id": "9cb9fa31",
      "metadata": {
        "id": "9cb9fa31"
      },
      "source": [
        "Para poder hacer las consultas de forma más eficiente, podemos usar *smembers*, que permite buscar, de forma rápida, todas las publicaciones asociadas a una etiqueta específica (todos los elementos del conjunto)."
      ]
    },
    {
      "cell_type": "code",
      "execution_count": null,
      "id": "afb32031",
      "metadata": {
        "id": "afb32031"
      },
      "outputs": [],
      "source": [
        "pp(redis_client.smembers('poststag:.net'))"
      ]
    },
    {
      "cell_type": "code",
      "execution_count": null,
      "id": "d22a8e1f",
      "metadata": {
        "id": "d22a8e1f"
      },
      "outputs": [],
      "source": [
        "pp(redis_client.hgetall('post:1'))"
      ]
    },
    {
      "cell_type": "markdown",
      "id": "efbb0f2a",
      "metadata": {
        "id": "efbb0f2a"
      },
      "source": [
        "**¿Qué habría que hacer cada vez que se crea un `Post`?**\n"
      ]
    },
    {
      "cell_type": "markdown",
      "id": "00736e67",
      "metadata": {
        "id": "00736e67"
      },
      "source": [
        "**¿Alguna optimización más?**"
      ]
    },
    {
      "cell_type": "markdown",
      "id": "fb2b0de4",
      "metadata": {
        "id": "fb2b0de4"
      },
      "source": [
        "Pues... ¿por qué usar un conjunto si no se va a repetir ningún Post? Mejor usar una lista, que es mucho más rápida en el servidor, y nunca se va a tener que usar `smember` para preguntar si un post tiene un *tag*. Para eso ya está el post en sí."
      ]
    },
    {
      "cell_type": "code",
      "execution_count": null,
      "id": "00d7dc2c",
      "metadata": {
        "id": "00d7dc2c"
      },
      "outputs": [],
      "source": [
        "cursor: int = 0\n",
        "while True:\n",
        "  cursor, keys = redis_client.scan(cursor=cursor, match=b'poststag:*', count=5000)\n",
        "  if keys:\n",
        "    redis_client.delete(*keys)\n",
        "  if cursor == 0:\n",
        "    break"
      ]
    },
    {
      "cell_type": "code",
      "execution_count": null,
      "id": "c41a0377",
      "metadata": {
        "id": "c41a0377"
      },
      "outputs": [],
      "source": [
        "# Borramos las claves que hemos creado (otra forma de hacerlo, más lenta)\n",
        "for key in redis_client.scan_iter(match=b'poststag:*'):\n",
        "  redis_client.delete(key)"
      ]
    },
    {
      "cell_type": "code",
      "execution_count": null,
      "id": "683826b8",
      "metadata": {
        "id": "683826b8"
      },
      "outputs": [],
      "source": [
        "import re\n",
        "\n",
        "posts: Iterator = redis_client.scan_iter(match=b'post:*')\n",
        "for p_key in tqdm(posts, desc=\"Procesando posts...\"):\n",
        "  post_tags: str = redis_client.hget(p_key, 'Tags').decode()\n",
        "\n",
        "  # Encontrar todos los tags separados por <xxx>\n",
        "  for tag in re.findall(r'<(.*?)>', post_tags):\n",
        "    redis_client.lpush(f\"poststag:{tag}\", p_key)"
      ]
    },
    {
      "cell_type": "code",
      "execution_count": null,
      "id": "579789b5",
      "metadata": {
        "id": "579789b5"
      },
      "outputs": [],
      "source": [
        "pp(redis_client.lrange('poststag:lisp', 0, -1))"
      ]
    },
    {
      "cell_type": "markdown",
      "id": "e6fe569d",
      "metadata": {
        "id": "e6fe569d"
      },
      "source": [
        "Comprobando de nuevo `.net`, pero mostrando sólo los 8 primeros elementos."
      ]
    },
    {
      "cell_type": "code",
      "execution_count": null,
      "id": "2de182a2",
      "metadata": {
        "id": "2de182a2"
      },
      "outputs": [],
      "source": [
        "pp(redis_client.lrange('poststag:.net', 0, 7))"
      ]
    },
    {
      "cell_type": "markdown",
      "id": "a5500601",
      "metadata": {
        "id": "a5500601"
      },
      "source": [
        "### Ejemplo 2: Posts de cada tag, pero por Id de tag, no por nombre\n",
        "\n",
        "A la hora de crear un post, si necesitamos buscar cada Tag dentro, podríamos hacer lo siguiente:"
      ]
    },
    {
      "cell_type": "code",
      "execution_count": null,
      "id": "5acff96b",
      "metadata": {
        "id": "5acff96b"
      },
      "outputs": [],
      "source": [
        "import re\n",
        "\n",
        "# Construimos las claves tagname:nombre -> id a partir de\n",
        "# las claves tag:id -> {TagName: nombre}\n",
        "id_tags: Iterator = redis_client.scan_iter(match=b'tag:*')\n",
        "for t in id_tags:\n",
        "  tag: str = redis_client.hget(t, 'TagName').decode()\n",
        "  redis_client.set(f\"tagname:{tag}\", t)\n",
        "\n",
        "posts: Iterator = redis_client.scan_iter(match=b'post:*')\n",
        "for p_key in tqdm(posts, desc=\"Procesando posts...\"):\n",
        "  post_tags: str = redis_client.hget(p_key, 'Tags').decode()\n",
        "\n",
        "  # Encontrar todos los tags separados por <xxx>\n",
        "  for tag in re.findall(r'<(.*?)>', post_tags):\n",
        "    d: str = redis_client.get(f\"tagname:{tag}\").decode()\n",
        "    _, tag_id = d.split(':')  # Id del tag\n",
        "    redis_client.lpush(f\"poststagid:{tag_id}\", p_key)"
      ]
    },
    {
      "cell_type": "markdown",
      "id": "f9c98554",
      "metadata": {
        "id": "f9c98554"
      },
      "source": [
        "De esta forma, ahora cada post tiene un \"enlace\" a cada uno de sus Tags."
      ]
    },
    {
      "cell_type": "code",
      "execution_count": null,
      "id": "255c4310",
      "metadata": {
        "id": "255c4310"
      },
      "outputs": [],
      "source": [
        "pp(redis_client.lrange('poststagid:538', 0, -1))"
      ]
    },
    {
      "cell_type": "code",
      "execution_count": null,
      "id": "5c96a5e7",
      "metadata": {
        "id": "5c96a5e7"
      },
      "outputs": [],
      "source": [
        "pp(redis_client.hgetall(b'tag:538'))"
      ]
    },
    {
      "cell_type": "code",
      "execution_count": null,
      "id": "1605a7bf",
      "metadata": {
        "id": "1605a7bf"
      },
      "outputs": [],
      "source": [
        "pp(redis_client.hgetall(b'post:6385'))"
      ]
    },
    {
      "cell_type": "markdown",
      "id": "74c65b43",
      "metadata": {
        "id": "74c65b43"
      },
      "source": [
        "### Ejemplo 3: Añadir a cada Post los IDs de sus respuestas\n",
        "\n",
        "Veremos cómo añadir un campo a cada post que guarde los IDs de sus respuestas. En este caso lo haremos con cadenas que representan objetos JSON."
      ]
    },
    {
      "cell_type": "code",
      "execution_count": null,
      "id": "9b860405",
      "metadata": {
        "id": "9b860405"
      },
      "outputs": [],
      "source": [
        "import json\n",
        "\n",
        "b = json.loads(\"[1,2]\")\n",
        "print (b)"
      ]
    },
    {
      "cell_type": "code",
      "execution_count": null,
      "id": "481be2de",
      "metadata": {
        "id": "481be2de"
      },
      "outputs": [],
      "source": [
        "json.dumps([1,2,3])"
      ]
    },
    {
      "cell_type": "code",
      "execution_count": null,
      "id": "508b525e",
      "metadata": {
        "id": "508b525e"
      },
      "outputs": [],
      "source": [
        "import json\n",
        "\n",
        "posts: Iterator = redis_client.scan_iter(match=b'post:*')\n",
        "for p_key in tqdm(posts, desc=\"Procesando posts...\"):\n",
        "  post_type_id: str = (redis_client.hget(p_key, 'PostTypeId') or b'').decode()\n",
        "  # Only answers treated\n",
        "  if int(post_type_id) == 2:\n",
        "    parent_id: bytes | None = redis_client.hget(p_key, 'ParentId')\n",
        "    # It has a parent!!\n",
        "    if parent_id:\n",
        "      parent_key: str = f\"post:{parent_id.decode()}\"\n",
        "      # Get the list of answers\n",
        "      answers_b: bytes | None = redis_client.hget(parent_key, 'AnswerList')\n",
        "      answers: list = json.loads(answers_b.decode()) if answers_b else []\n",
        "      answers.append(p_key.decode())\n",
        "      redis_client.hset(parent_key, 'AnswerList', json.dumps(answers))"
      ]
    },
    {
      "cell_type": "code",
      "execution_count": null,
      "id": "2138ec72",
      "metadata": {
        "id": "2138ec72"
      },
      "outputs": [],
      "source": [
        "pp(redis_client.hgetall('post:5'))"
      ]
    },
    {
      "cell_type": "markdown",
      "id": "27412b95",
      "metadata": {
        "id": "27412b95"
      },
      "source": [
        "### Ejemplo 4: Ordenar los posts por su fecha de creación\n",
        "\n",
        "Podríamos usar un `sorted set` para generar un índice secundario que ordenara los `posts` en base a su fecha de creación (`CreationDate`)."
      ]
    },
    {
      "cell_type": "code",
      "execution_count": null,
      "id": "952f6cf7",
      "metadata": {
        "id": "952f6cf7"
      },
      "outputs": [],
      "source": [
        "from datetime import datetime\n",
        "from itertools import islice # Para limitar el número de posts a procesar (limitando el iterador)\n",
        "\n",
        "posts: Iterator = redis_client.scan_iter(match=b'post:*')\n",
        "for p in tqdm(islice(posts, 300), desc=\"Procesando posts...\"):\n",
        "  p_date_str: str = redis_client.hget(p,'CreationDate').decode()\n",
        "  p_dt: float = datetime.strptime(p_date_str, '%Y-%m-%dT%H:%M:%S.%f').timestamp()\n",
        "  #print(p_dt)\n",
        "  redis_client.zadd(\"post_by_creationdate\", {p:p_dt})"
      ]
    },
    {
      "cell_type": "markdown",
      "id": "198f756a",
      "metadata": {
        "id": "198f756a"
      },
      "source": [
        "Ahora podemos lanzar diferentes consultas que permiten ordenar los post en base a diferentes criterios:\n",
        "- Recuperar los 100 `posts` más recientemente creados"
      ]
    },
    {
      "cell_type": "code",
      "execution_count": null,
      "id": "9147b4e9",
      "metadata": {
        "id": "9147b4e9"
      },
      "outputs": [],
      "source": [
        "resultados = redis_client.zrange('post_by_creationdate', 0, 100, desc=True, withscores=True)\n",
        "for (p,t) in resultados:\n",
        "  print(f\"{p.decode()} -> {datetime.fromtimestamp(t)}\")"
      ]
    },
    {
      "cell_type": "markdown",
      "id": "e6a406bf",
      "metadata": {
        "id": "e6a406bf"
      },
      "source": [
        "- Recupear los 50 `posts` más antiguos"
      ]
    },
    {
      "cell_type": "code",
      "execution_count": null,
      "id": "9fef0d22",
      "metadata": {
        "id": "9fef0d22"
      },
      "outputs": [],
      "source": [
        "resultados = redis_client.zrange('post_by_creationdate', 0, 50, desc=False, withscores=True)\n",
        "for (p,t) in resultados:\n",
        "    print(f\"{p.decode()} -> {datetime.fromtimestamp(t)}\")"
      ]
    },
    {
      "cell_type": "markdown",
      "id": "74c369e8",
      "metadata": {
        "id": "74c369e8"
      },
      "source": [
        "## EJERCICIO 1: Calcular cuántos usuarios **_diferentes_** han hecho preguntas de cada tag. Usad las claves generadas anteriormente `poststagid:*` y añadirlo como la clave `nusers` al diccionario correspondiente de `tag:*`.\n"
      ]
    },
    {
      "cell_type": "markdown",
      "id": "b3d007c0",
      "metadata": {
        "id": "b3d007c0"
      },
      "source": [
        "La respuesta a la siguiente consulta debe funcionar correctamente (948 usuarios del tag 1 y 19 usuarios del tag 10):"
      ]
    },
    {
      "cell_type": "code",
      "execution_count": null,
      "id": "b139d168",
      "metadata": {
        "id": "b139d168"
      },
      "outputs": [],
      "source": [
        "assert redis_client.hget(b\"tag:10\", b\"nusers\") == b\"19\"\n",
        "assert redis_client.hget(b\"tag:1\", b\"nusers\") == b\"948\""
      ]
    },
    {
      "cell_type": "markdown",
      "id": "31b35f30",
      "metadata": {
        "id": "31b35f30"
      },
      "source": [
        "## EJERCICIO 2: Añadid las claves `user:*` con cada `OwnerUserId` de los posts. A cada usuario se le debe añadir una clave `nquestions`, que guarde el número de preguntas que ha hecho (`PostTypeId` igual a 1) y `nanswers`, que guarde el número de respuestas que ha dado (`PostTypeId` == 2).\n",
        "\n",
        "**NOTA**: Podéis usar el método `hincrby` para incrementar un campo de un hash.\n"
      ]
    },
    {
      "cell_type": "markdown",
      "id": "531cdf12",
      "metadata": {
        "id": "531cdf12"
      },
      "source": [
        "La respuesta a la siguiente consulta debe funcionar correctamente:\n",
        "\n"
      ]
    },
    {
      "cell_type": "code",
      "execution_count": null,
      "id": "ca60d6e6",
      "metadata": {
        "id": "ca60d6e6"
      },
      "outputs": [],
      "source": [
        "assert redis_client.hget(b\"user:23\", b\"nquestions\") == b\"7\"\n",
        "assert redis_client.hget(b\"user:23\", b\"nanswers\") == b\"36\"\n",
        "assert redis_client.hget(b\"user:2000\", b\"nquestions\") == b\"1\"\n",
        "assert redis_client.hget(b\"user:2000\", b\"nanswers\") == b\"2\""
      ]
    },
    {
      "cell_type": "markdown",
      "id": "850151ce",
      "metadata": {
        "id": "850151ce"
      },
      "source": [
        "## EJERCICIO 3: Crear un nuevo conjunto de claves `month_year:*` que contenga en un campo `num_posts` el número total de posts creados en un determinado mes y año.\n",
        "\n",
        "**NOTA**: Fijate en el campo `CreationDate` de cada post."
      ]
    },
    {
      "cell_type": "markdown",
      "id": "ac83826e",
      "metadata": {
        "id": "ac83826e"
      },
      "source": [
        "La respuesta a la siguiente consulta debe funcionar correctamente:\n"
      ]
    },
    {
      "cell_type": "code",
      "execution_count": null,
      "id": "0061748d",
      "metadata": {
        "id": "0061748d"
      },
      "outputs": [],
      "source": [
        "assert redis_client.hget(b\"month_year:2021-07\", b\"num_posts\") == b\"4171\"\n",
        "assert redis_client.hget(b\"month_year:2022-01\", b\"num_posts\") == b\"3520\"\n",
        "assert redis_client.hget(b\"month_year:2019-12\", b\"num_posts\") == b\"4510\"\n",
        "assert redis_client.hget(b\"month_year:2020-08\", b\"num_posts\") == b\"5308\""
      ]
    },
    {
      "cell_type": "code",
      "execution_count": null,
      "id": "67f59277",
      "metadata": {
        "id": "67f59277"
      },
      "outputs": [],
      "source": [
        "print(\"Eso es todo amigos.\")"
      ]
    }
  ],
  "metadata": {
    "colab": {
      "provenance": []
    },
    "kernelspec": {
      "display_name": "Python 3 (ipykernel)",
      "language": "python",
      "name": "python3"
    },
    "language_info": {
      "codemirror_mode": {
        "name": "ipython",
        "version": 3
      },
      "file_extension": ".py",
      "mimetype": "text/x-python",
      "name": "python",
      "nbconvert_exporter": "python",
      "pygments_lexer": "ipython3",
      "version": "3.12.7"
    }
  },
  "nbformat": 4,
  "nbformat_minor": 5
}