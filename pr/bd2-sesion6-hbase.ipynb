{
  "cells": [
    {
      "cell_type": "markdown",
      "id": "81836795",
      "metadata": {
        "id": "81836795"
      },
      "source": [
        "# BD II (Columnares: HBase)"
      ]
    },
    {
      "cell_type": "markdown",
      "id": "bf781a80",
      "metadata": {
        "id": "bf781a80"
      },
      "source": [
        "![hbase-logo.e139b77f7031062f738f0fc28210e0ffa6ca26c8.png](data:image/png;base64,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)\n",
        "\n"
      ]
    },
    {
      "cell_type": "markdown",
      "id": "8fd89c69",
      "metadata": {
        "id": "8fd89c69"
      },
      "source": [
        "Esta hoja muestra cómo acceder a bases de datos HBase y también a conectar la salida con Jupyter.\n",
        "\n",
        "Se puede utilizar el *shell* propio de HBase en la máquina virtual.\n",
        "\n",
        "Con HBase vamos a simular un modo _semi-clúster_ con una sola máquina.\n"
      ]
    },
    {
      "cell_type": "markdown",
      "id": "f92fe71c",
      "metadata": {
        "id": "f92fe71c"
      },
      "source": [
        "Primero ajustamos la variable de entorno `JAVA_HOME`, necesaria para HBase."
      ]
    },
    {
      "cell_type": "code",
      "execution_count": 1,
      "id": "5a531939",
      "metadata": {
        "id": "5a531939"
      },
      "outputs": [],
      "source": [
        "RunningInCOLAB = 'google.colab' in str(get_ipython()) if hasattr(__builtins__,'__IPYTHON__') else False"
      ]
    },
    {
      "cell_type": "code",
      "execution_count": 2,
      "id": "068f0d3c",
      "metadata": {
        "id": "068f0d3c"
      },
      "outputs": [],
      "source": [
        "if not RunningInCOLAB:\n",
        "    !sudo apt-get update -qq\n",
        "    !sudo apt-get install -y -qq default-jdk p7zip"
      ]
    },
    {
      "cell_type": "code",
      "execution_count": 3,
      "id": "4590ec3a",
      "metadata": {
        "id": "4590ec3a"
      },
      "outputs": [],
      "source": [
        "# Search for the first java interpreter. This code should work. If not, adjust JAVA_HOME manually.\n",
        "import os\n",
        "from pathlib import Path\n",
        "\n",
        "def find_java_home() -> str | None:\n",
        "  p  = Path('/usr/lib/jvm')\n",
        "  (_, dirs, _) = next(os.walk(p))\n",
        "  for d in dirs:\n",
        "    inner_java: Path = p / d / 'bin' / 'java'\n",
        "    if inner_java.is_file() and inner_java.stat().st_mode & 0o111:\n",
        "        return str(p.joinpath(d).absolute())\n",
        "  return None\n",
        "\n",
        "JAVA_HOME: str | None = os.getenv('JAVA_HOME', find_java_home())"
      ]
    },
    {
      "cell_type": "code",
      "execution_count": 4,
      "id": "85f945c5",
      "metadata": {
        "id": "85f945c5",
        "outputId": "83dba972-e3dd-4504-ae8b-a5c120e9d2d9",
        "colab": {
          "base_uri": "https://localhost:8080/"
        }
      },
      "outputs": [
        {
          "output_type": "stream",
          "name": "stdout",
          "text": [
            "env: JAVA_HOME=/usr/lib/jvm/java-11-openjdk-amd64\n"
          ]
        }
      ],
      "source": [
        "%env JAVA_HOME=$JAVA_HOME"
      ]
    },
    {
      "cell_type": "code",
      "execution_count": 5,
      "id": "d3135d34",
      "metadata": {
        "id": "d3135d34",
        "outputId": "ac876857-e406-4a10-f2af-d3105e46044e",
        "colab": {
          "base_uri": "https://localhost:8080/"
        }
      },
      "outputs": [
        {
          "output_type": "stream",
          "name": "stdout",
          "text": [
            "Collecting bs4\n",
            "  Downloading bs4-0.0.2-py2.py3-none-any.whl.metadata (411 bytes)\n",
            "Requirement already satisfied: lxml in /usr/local/lib/python3.11/dist-packages (5.3.1)\n",
            "Requirement already satisfied: beautifulsoup4 in /usr/local/lib/python3.11/dist-packages (from bs4) (4.13.3)\n",
            "Requirement already satisfied: soupsieve>1.2 in /usr/local/lib/python3.11/dist-packages (from beautifulsoup4->bs4) (2.6)\n",
            "Requirement already satisfied: typing-extensions>=4.0.0 in /usr/local/lib/python3.11/dist-packages (from beautifulsoup4->bs4) (4.12.2)\n",
            "Downloading bs4-0.0.2-py2.py3-none-any.whl (1.2 kB)\n",
            "Installing collected packages: bs4\n",
            "Successfully installed bs4-0.0.2\n"
          ]
        }
      ],
      "source": [
        "%pip install bs4 lxml"
      ]
    },
    {
      "cell_type": "code",
      "execution_count": 6,
      "id": "f4ffe11a",
      "metadata": {
        "id": "f4ffe11a"
      },
      "outputs": [],
      "source": [
        "# Determinar qué versión 2.x de HBase es la más reciente.\n",
        "from bs4 import BeautifulSoup\n",
        "from urllib.request import Request, urlopen\n",
        "from functools import reduce\n",
        "import re\n",
        "from re import Pattern\n",
        "\n",
        "version_re: Pattern = re.compile(r'^(2\\.[0-9]+(\\.[0-9]+)?)')\n",
        "req = Request(\"https://downloads.apache.org/hbase/\")\n",
        "html_page = urlopen(req)\n",
        "\n",
        "soup = BeautifulSoup(html_page)\n",
        "bigger2x: str = reduce(max,\n",
        "                       [m.group(0) for m in [version_re.match(link.get_text()) for link in soup.find_all('a')] if m],\n",
        "                       '2.0.0') # Base version 2.x.x"
      ]
    },
    {
      "cell_type": "code",
      "execution_count": 7,
      "id": "36444098",
      "metadata": {
        "id": "36444098",
        "outputId": "64ef3972-e21c-4abe-974f-98553deadc82",
        "colab": {
          "base_uri": "https://localhost:8080/"
        }
      },
      "outputs": [
        {
          "output_type": "stream",
          "name": "stdout",
          "text": [
            "env: HBASE_VERSION=2.6.2\n"
          ]
        }
      ],
      "source": [
        "%env HBASE_VERSION=$bigger2x"
      ]
    },
    {
      "cell_type": "code",
      "execution_count": 8,
      "id": "107b35b6",
      "metadata": {
        "id": "107b35b6"
      },
      "outputs": [],
      "source": [
        "%%sh\n",
        "wget -q https://downloads.apache.org/hbase/$HBASE_VERSION/hbase-$HBASE_VERSION-bin.tar.gz\n",
        "tar -xzf hbase-$HBASE_VERSION-bin.tar.gz\n",
        "rm -rf hbase-$HBASE_VERSION-bin.tar.gz"
      ]
    },
    {
      "cell_type": "code",
      "execution_count": 9,
      "id": "f14fe422",
      "metadata": {
        "id": "f14fe422",
        "outputId": "c05c8c45-9509-4a97-d136-f04463c42d99",
        "colab": {
          "base_uri": "https://localhost:8080/"
        }
      },
      "outputs": [
        {
          "output_type": "stream",
          "name": "stdout",
          "text": [
            "running master, logging to /content/hbase-2.6.2/bin/../logs/hbase--master-054ec588ab76.out\n",
            "running thrift, logging to /content/hbase-2.6.2/bin/../logs/hbase--thrift-054ec588ab76.out\n",
            "running thrift, logging to /content/hbase-2.6.2/bin/../logs/hbase--thrift-054ec588ab76.out\n",
            "no thrift to stop because no pid file /tmp/hbase--thrift.pid\n",
            "running thrift, logging to /content/hbase-2.6.2/bin/../logs/hbase--thrift-054ec588ab76.out\n"
          ]
        }
      ],
      "source": [
        "%%sh\n",
        "hbase-$HBASE_VERSION/bin/start-hbase.sh\n",
        "hbase-$HBASE_VERSION/bin/hbase-daemon.sh restart thrift"
      ]
    },
    {
      "cell_type": "code",
      "execution_count": 10,
      "id": "bec1ab85",
      "metadata": {
        "id": "bec1ab85"
      },
      "outputs": [],
      "source": [
        "from pprint import pprint as pp"
      ]
    },
    {
      "cell_type": "markdown",
      "id": "80206aaa",
      "metadata": {
        "id": "80206aaa"
      },
      "source": [
        "Descargamos los ficheros de *stackoverflow* para trabajar con ellos en HBase."
      ]
    },
    {
      "cell_type": "code",
      "execution_count": 11,
      "id": "ce51be5e",
      "metadata": {
        "id": "ce51be5e"
      },
      "outputs": [],
      "source": [
        "%%sh\n",
        "wget -q https://github.com/dsevilla/bd2-data/raw/main/es.stackoverflow/es.stackoverflow.csv.7z.001\n",
        "wget -q https://github.com/dsevilla/bd2-data/raw/main/es.stackoverflow/es.stackoverflow.csv.7z.002"
      ]
    },
    {
      "cell_type": "code",
      "execution_count": 12,
      "id": "5adddd4f",
      "metadata": {
        "id": "5adddd4f",
        "outputId": "9517f7a8-0f6a-420f-da39-c1cb8916ac21",
        "colab": {
          "base_uri": "https://localhost:8080/"
        }
      },
      "outputs": [
        {
          "output_type": "stream",
          "name": "stdout",
          "text": [
            "\n",
            "7-Zip (a) [64] 16.02 : Copyright (c) 1999-2016 Igor Pavlov : 2016-05-21\n",
            "p7zip Version 16.02 (locale=en_US.UTF-8,Utf16=on,HugeFiles=on,64 bits,2 CPUs Intel(R) Xeon(R) CPU @ 2.20GHz (406F0),ASM,AES-NI)\n",
            "\n",
            "Scanning the drive for archives:\n",
            "1 file, 104857600 bytes (100 MiB)\n",
            "\n",
            "Extracting archive: es.stackoverflow.csv.7z.001\n",
            "--\n",
            "Path = es.stackoverflow.csv.7z.001\n",
            "Type = Split\n",
            "Physical Size = 104857600\n",
            "Volumes = 2\n",
            "Total Physical Size = 200457538\n",
            "----\n",
            "Path = es.stackoverflow.csv.7z\n",
            "Size = 200457538\n",
            "--\n",
            "Path = es.stackoverflow.csv.7z\n",
            "Type = 7z\n",
            "Physical Size = 200457538\n",
            "Headers Size = 248\n",
            "Method = LZMA2:24\n",
            "Solid = +\n",
            "Blocks = 1\n",
            "\n",
            "Everything is Ok\n",
            "\n",
            "Files: 5\n",
            "Size:       1044736301\n",
            "Compressed: 200457538\n"
          ]
        }
      ],
      "source": [
        "%%sh\n",
        "7zr x es.stackoverflow.csv.7z.001\n",
        "rm -rf es.stackoverflow.csv.7z.001\n",
        "rm -rf es.stackoverflow.csv.7z.002"
      ]
    },
    {
      "cell_type": "code",
      "execution_count": 13,
      "id": "a4b29d24",
      "metadata": {
        "id": "a4b29d24",
        "outputId": "a2870e41-8b0c-4982-b994-d5c56f998b20",
        "colab": {
          "base_uri": "https://localhost:8080/"
        }
      },
      "outputs": [
        {
          "output_type": "stream",
          "name": "stdout",
          "text": [
            "Id,AboutMe,AccountId,CreationDate,DisplayName,DownVotes,LastAccessDate,Location,Reputation,UpVotes,Views,WebsiteUrl\r\n",
            "-1,\"<p>Hola, no soy una persona real.</p><br/><br/><p>¡Soy un proceso que ayuda a mantener el sitio limpio!</p><br/><br/><p>Hago cosas como:</p><br/><br/><ul><br/><li>Dar empujoncitos a preguntas antiguas sin respuesta aproximadamente cada hora, para que atraigan algo de atención.</li><br/><li>Tener la propiedad de las preguntas y respuestas wiki para que nadie se lleve reputación por ellas</li><br/><li>Recibir la propiedad de los votos negativos en las publicaciones de spam o dañinas que son borradas permanentemente</li><br/><li>Tener la propiedad de las ediciones sugeridas por usuarios anónimos</li><br/><li><a href=\"\"http://meta.stackoverflow.com/a/92006\"\">Quitar preguntas abandonadas</a></li><br/></ul><br/>\",-1,2015-10-26T21:36:24.767,Comunidad,22504,2015-10-26T21:36:24.767,en la granja de servidores,1,10211,2516,\r\n",
            "1,\"<p>Dev #2 who helped create Stack Overflow currently working at Microsoft. I love all people willing to share their knowledge. Without community we are nothing.</p><br/><p>Find me on:</p><br/><p><a href=\"\"http://www.twitter.com/SuperDalgas\"\" rel=\"\"nofollow noreferrer\"\">Twitter</a><br/><br><br><br/><a href=\"\"http://blog.stackoverflow.com/2009/05/welcome-stack-overflow-valued-associate-00003/\"\">Stack Overflow Valued Associate #00003</a></p><br/>\",2,2015-10-26T22:50:12.710,Geoff Dalgas,0,2021-01-05T19:45:26.807,\"Corvallis, OR\",101,0,2917,http://stackoverflow.com\r\n",
            "2,\"<p>developer, techie, nerd.... ex-DBRE at Stack Overflow, previously a Community Manager for Stack Overflow.  When I'm not at my desk, I do CrossFit and run (a lot).</p><br/>\",188123,2015-10-26T22:51:07.007,Taryn,0,2020-08-18T17:39:10.693,Arizona,101,0,109,https://tarynpivots.com\r\n",
            "3,\"<p>Topics you might be interested in reading about:</p><br/><ul><br/><li><a href=\"\"https://jlericson.com/2023/10/16/catija.html\"\" rel=\"\"nofollow noreferrer\"\">why Stack Exchange Inc undervalues community managers</a></li><br/><li><a href=\"\"https://jlericson.com/tag/strike\"\" rel=\"\"nofollow noreferrer\"\">the moderator strike</a></li><br/><li><a href=\"\"https://jlericson.com/tag/documentation\"\" rel=\"\"nofollow noreferrer\"\">documentation</a></li><br/><li><a href=\"\"https://jlericson.com/tag/support\"\" rel=\"\"nofollow noreferrer\"\">customer support</a></li><br/></ul><br/><p>I'm Head of Community at <a href=\"\"https://talk.collegeconfidential.com/\"\" rel=\"\"nofollow noreferrer\"\">College Confidential</a> and former <a href=\"\"https://jlericson.com/2021/04/30/developer_advocate.html\"\" rel=\"\"nofollow noreferrer\"\">Developer Advocate at EDB</a>. Stack Exchange no longer employs me as a <a href=\"\"http://blog.stackoverflow.com/2013/08/please-welcome-jon-ericson-community-manager/\"\">Community Manager</a>.  I maintain an <a href=\"\"http://chat.meta.stackexchange.com/rooms/738/jons-java-jitter-joint\"\">office on chat</a>. (Please ignore the meta cruft.)</p><br/><blockquote><br/><p><a href=\"\"https://www.mechon-mamre.org/p/pt/pt2685.htm\"\" rel=\"\"nofollow noreferrer\"\">Mercy and truth are met together; righteousness and peace have kissed each other.</a></p><br/></blockquote><br/><p>I write about my experience as a community manager at <a href=\"\"https://jlericson.com/\"\" rel=\"\"nofollow noreferrer\"\">jlericson.com</a>. You can read about what I've done over the years in my <a href=\"\"https://web.archive.org/web/20220113195358/https://stackoverflow.com/users/story/1438\"\" rel=\"\"nofollow noreferrer\"\" title=\"\"Not guaranteed to be current.\"\"><em>curriculum vitae</em></a>.</p><br/><p>On a personal note, I'm married and have three children.  Our oldest son loves school, friends, games, and music. Two of my children happen to have been born on the same day.  I <a href=\"\"http://taking1and1.wordpress.com/\"\" rel=\"\"nofollow noreferrer\"\" title=\"\"Yet another half-assed blog.\"\">sometimes write</a> about that experience. My wife loves taking care of people as a registered nurse and an all around wonderful person.</p><br/><p>Don't have time for a full review of something?  Why not try <a href=\"\"http://fivesecondreview.wordpress.com/\"\" rel=\"\"nofollow noreferrer\"\" title=\"\"All reviews accurate and helpful or your money back.\"\">my 5-second reviews</a>?</p><br/><p>I once wrote for <a href=\"\"http://christianity.blogoverflow.com/author/jonericson/\"\" rel=\"\"nofollow noreferrer\"\" title=\"\"I haven't been on the rotation for a while, however.\"\">Eschewmenical</a>, which was an experiment of <a href=\"\"http://christianity.stackexchange.com/\"\">Christianity Stack Exchange</a>. For <em>a lot more</em> writing about the Bible, see <a href=\"\"https://hermeneutics.stackexchange.com/users/68/jon-ericson?tab=summary\"\">my Biblical Hermeneutics posts</a>.</p><br/><br/>\",1083,2015-10-26T22:52:12.923,Jon 'links in bio' Ericson,0,2023-06-04T23:58:02.373,Downtown Burbank,101,0,87,https://jlericson.com/\r\n",
            "4,\"<p>Lover of all things sharp including pencils, wit, and knives but not cheddar.</p><br/>\",6254215,2015-10-26T23:18:40.547,Juan M,0,2022-02-11T16:07:18.457,Behind the Glass,101,56,260,\r\n",
            "5,\"<p>I am a Principal Software Engineer at Microsoft working on Azure Functions and related hosting technologies. Formerly the Architecture Lead for Stack Overflow where my day job consisted of being a Developer, Site Reliability Engineer, and DBA.</p><br/><p>I design and build very fast things in hopes of making life easier for millions of developers.</p><br/><p>Blog: <a href=\"\"https://nickcraver.com/blog/\"\" rel=\"\"nofollow noreferrer\"\">nickcraver.com/blog</a><br /><br/>Twitter: <a href=\"\"https://twitter.com/Nick_Craver\"\" rel=\"\"nofollow noreferrer\"\">@Nick_Craver</a><br /><br/>My Developer Story: <a href=\"\"https://stackoverflow.com/story/ncraver\"\">stackoverflow.com/story/ncraver</a></p><br/><p><sub>Disclaimer: I have <em>no idea</em> what I'm talking about, all my answers are guesses!</sub></p><br/>\",7598,2015-10-26T23:46:20.807,Nick Craver,0,2019-04-02T20:05:34.147,\"Winston-Salem, NC\",101,0,53,https://nickcraver.com/blog/\r\n",
            "6,\"<p>Chief Technical Officer at <a href=\"\"https://postop.ai\"\" rel=\"\"nofollow noreferrer\"\">https://postop.ai</a>.</p><br/><ul><br/><li>Stack Overflow Contributor since 2008</li><br/><li>Skeptics mod since 2011</li><br/><li>Core dev since March 2013</li><br/><li>Stack Overflow alumnus since February 2017</li><br/></ul><br/><p>You can find me on</p><br/><ul><br/><li><a href=\"\"http://sklivvz.com\"\" rel=\"\"nofollow noreferrer\"\">Personal site</a></li><br/><li><a href=\"\"https://mastodon.social/@sklivvz\"\" rel=\"\"nofollow noreferrer\"\">Mastodon</a></li><br/><li><a href=\"\"https://github.com/sklivvz\"\" rel=\"\"nofollow noreferrer\"\">Github</a></li><br/><li><a href=\"\"https://www.linkedin.com/in/sklivvz/\"\" rel=\"\"nofollow noreferrer\"\">LinkedIn</a></li><br/></ul><br/>\",4623,2015-10-26T23:57:13.187,Sklivvz,0,2017-11-04T17:02:40.430,\"Trento, Province of Trento, Italy\",101,0,40,https://sklivvz.com\r\n",
            "7,\"<p><a href=\"\"http://blog.stackoverflow.com/2013/09/summer-hiring-happened-so-fast/\"\">I'm</a> a Web Developer on the Stack Overflow Q&A Core <a href=\"\"http://stackexchange.com/about/team\"\">team</a>. You can email me via sprelog (at) stackoverflow.com</p><br/>\",51875,2015-10-27T07:03:55.417,m0sa,0,2023-01-24T10:24:53.517,Slovenia,101,0,51,\r\n",
            "8,\"<p>My top interests here are:</p><br/><br/><ul><br/><li>Python</li><br/><li>Django</li><br/><li>Software security</li><br/></ul><br/><br/><p>In the past, I used <code>python</code> and <code>django</code> to develop a payment solution at <a href=\"\"https://www.my-bee.fr/pro/\"\" rel=\"\"nofollow noreferrer\"\">MyBee</a> - I'm glad they're still going strong today! I also worked at <a href=\"\"http://scalr.com/\"\" rel=\"\"nofollow noreferrer\"\">Scalr</a> as a Product Manager, and at <a href=\"\"http://www.accenture.com/\"\" rel=\"\"nofollow noreferrer\"\">Accenture</a> as a consultant on business / IT projects. Today, I'm Lead Backend Engineer at <a href=\"\"https://aptible.com\"\" rel=\"\"nofollow noreferrer\"\">Aptible</a>.</p><br/><br/><p>Personal email: <code>thomas@orozco.fr</code></p><br/>\",467632,2015-10-27T08:25:59.317,Thomas Orozco,0,2017-03-14T23:25:52.540,\"Paris, France\",101,0,27,\n",
            "13818,CC BY-SA 3.0,2016-04-12T20:46:01.630,7251,0,\"la verdad no gusta que quede asi, no hay otra forma de que el archivo de excel quede normal?? no hay una forma que sea similar al datagriaexcel que funciona con librerias de excel o una forma de acelerar ese proceso para que no sea tan demorado??\",,5066\n",
            "138182,CC BY-SA 3.0,2017-06-01T17:41:02.647,74276,0,Ya cambie el puerto y subi el nuevo codigo y nada,,6316\n",
            "138184,CC BY-SA 3.0,2017-06-01T17:48:32.957,75045,0,\"Pedro, buen día, bienvenido a la comunidad. Unas preguntas: Podrías poner el error completo? Estás seguro que esa es la función que genera el error? Has probado con la consola de Chrome, ver el stack? PD: Intenta unir todas las preguntas en una sola para facilitar la lectura. Saludos.\",,4495\n",
            "138185,CC BY-SA 3.0,2017-06-01T17:50:00.230,75092,0,\"Eso te pasa luego de hacer el delete con el botón? O antes?. Otra cosa, asegurate de que estas instanciando correctamente los botones (asegurate de que no tengan el mismo ID).\",,38154\n",
            "138186,CC BY-SA 3.0,2017-06-01T17:50:03.877,55816,0,¿Intentaste usar https://github.com/danialfarid/ng-file-upload? En tu ejemplo es posible tratar cada imagen como un Promise y luego usar Promise.all() para esperar por todas y así poder enviarlas.,,19396\n",
            "138187,CC BY-SA 3.0,2017-06-01T17:50:26.353,74276,0,\"Tendrás que llamar a soporte y preguntar los parámetros exactos: servidor, puerto, y autenticación (en caso de necesitarlo si no es open relay) y seguridad (ssl, starttls, etc). Con esos datos te puedo decir cómo configurarlos en phpmailer.\",,18608\n",
            "138189,CC BY-SA 3.0,2017-06-01T17:51:50.453,75139,0,Gracias amigos viendo tu codigo si me faltaban muchas cosas :),,26910\n"
          ]
        }
      ],
      "source": [
        "!head Users.csv\n",
        "!grep ^13818 Comments.csv # Buscamos las lineas en \"Coments.csv\" que empiecen por '13818'\n"
      ]
    },
    {
      "cell_type": "markdown",
      "id": "62107c1b",
      "metadata": {
        "id": "62107c1b"
      },
      "source": [
        "Usaremos la librería `happybase` para python. La cargamos a continuación y hacemos la conexión."
      ]
    },
    {
      "cell_type": "code",
      "execution_count": null,
      "id": "63f85a29",
      "metadata": {
        "id": "63f85a29"
      },
      "outputs": [],
      "source": [
        "%pip install git+https://github.com/python-happybase/happybase.git"
      ]
    },
    {
      "cell_type": "markdown",
      "id": "e2fd63bc",
      "metadata": {
        "id": "e2fd63bc"
      },
      "source": [
        "La conexión con la BD dura pocos segundos abierta porque está pensada para que un programa se conecte, haga una consulta y se desconecte. Al estar en una sesión interactiva, construyo un objeto `Connection` que genera un pool de conexiones. Si se desconecta, prueba otra vez."
      ]
    },
    {
      "cell_type": "code",
      "execution_count": null,
      "id": "8bd826b0",
      "metadata": {
        "id": "8bd826b0"
      },
      "outputs": [],
      "source": [
        "from collections.abc import Generator\n",
        "import happybase\n",
        "from happybase import ConnectionPool\n",
        "from contextlib import contextmanager\n",
        "\n",
        "HBASEHOST: str = 'localhost'\n",
        "\n",
        "class Connection():\n",
        "\n",
        "    def __init__(self, host: str):\n",
        "        self.host: str = host\n",
        "        self._genpool()\n",
        "\n",
        "    def _genpool(self):\n",
        "        self.pool = ConnectionPool(size=20, host=self.host, autoconnect=True)\n",
        "\n",
        "    @contextmanager\n",
        "    def connection(self) -> Generator[happybase.Connection, None, None]:\n",
        "        for _ in range(5): # Probar 5 veces a regenerar el pool\n",
        "            for _ in range(5): # Probar 5 veces a conectar\n",
        "                with self.pool.connection() as connection:\n",
        "                    try:\n",
        "                        connection.tables()\n",
        "                        yield connection\n",
        "                        return\n",
        "                    except Exception as _:\n",
        "                        pass\n",
        "            self._genpool()\n",
        "        raise Exception(\"HBase Connection Error\")"
      ]
    },
    {
      "cell_type": "code",
      "execution_count": null,
      "id": "1df228e8",
      "metadata": {
        "id": "1df228e8"
      },
      "outputs": [],
      "source": [
        "pool = Connection(HBASEHOST)"
      ]
    },
    {
      "cell_type": "markdown",
      "id": "ac05c453",
      "metadata": {
        "id": "ac05c453"
      },
      "source": [
        "Para la carga inicial, vamos a crear todas las tablas con una única familia de columnas, `rawdata`, donde meteremos toda la información _raw_ comprimida. Después podremos hacer reorganizaciones de los datos para hacer el acceso más eficiente. Es una de las muchas ventajas de no tener un esquema."
      ]
    },
    {
      "cell_type": "code",
      "execution_count": null,
      "id": "9dc29f04",
      "metadata": {
        "id": "9dc29f04"
      },
      "outputs": [],
      "source": [
        "# Create tables\n",
        "tables: list[str] = ['posts', 'votes', 'users', 'tags', 'comments']\n",
        "with pool.connection() as connection:\n",
        "    for t in tables:\n",
        "        try:\n",
        "          connection.create_table(\n",
        "                t,\n",
        "                {\n",
        "                    'rawdata': dict(max_versions=1,compression='GZ')\n",
        "                })\n",
        "        except Exception as e:\n",
        "            print(\"Database already exists: {0}. {1}\".format(t, e))\n",
        "            pass\n",
        "\n",
        "with pool.connection() as connection:\n",
        "    print(connection.tables())"
      ]
    },
    {
      "cell_type": "markdown",
      "id": "c2663e9b",
      "metadata": {
        "id": "c2663e9b"
      },
      "source": [
        "### Carga de los datos"
      ]
    },
    {
      "cell_type": "markdown",
      "id": "6cd6eae0",
      "metadata": {
        "id": "6cd6eae0"
      },
      "source": [
        "El código de importación es siempre el mismo, ya que se coge la primera fila del CSV que contiene el nombre de las columnas y se utiliza para generar nombres de columnas dentro de la familia de columnas dada como parámetro. La función `csv_to_hbase()` acepta un fichero CSV a abrir, un nombre de tabla y una familia de columnas donde agregar las columnas del fichero CSV. En nuestro caso siempre va a ser `rawdata`."
      ]
    },
    {
      "cell_type": "code",
      "execution_count": null,
      "id": "1b86a8d9",
      "metadata": {
        "id": "1b86a8d9"
      },
      "outputs": [],
      "source": [
        "import csv\n",
        "from happybase import Table\n",
        "\n",
        "def csv_to_hbase(file: str, tablename: str, column_family: str) -> None:\n",
        "    with pool.connection() as connection, open(file) as f:\n",
        "        table: Table = connection.table(tablename)\n",
        "\n",
        "        # La llamada csv.reader() crea un iterador sobre un fichero CSV\n",
        "        reader = csv.reader(f, dialect='excel')\n",
        "\n",
        "        # Se leen las columnas. Sus nombres se usarán para crear las diferentes columnas en la familia\n",
        "        columns: list[str] = next(reader)\n",
        "        columns = [column_family + ':' + c for c in columns]\n",
        "\n",
        "        with table.batch(batch_size=500) as b:\n",
        "            for row in reader:\n",
        "                # La primera columna se usará como Row Key\n",
        "                b.put(row[0], dict(zip(columns[1:], row[1:])))"
      ]
    },
    {
      "cell_type": "markdown",
      "id": "5fa28580",
      "metadata": {
        "id": "5fa28580"
      },
      "source": [
        "La carga de los datos tarda tiempo, por lo que se hace en parlelo y en segundo plano para que podamos continuar con el notebook. Se utiliza el paradigma de \"futures\", una abstracción que permite dejar pendiente una computación en segundo plano, y obtenerla finalmente, o esperar a que termine, preguntar de vez en cuando, etc."
      ]
    },
    {
      "cell_type": "code",
      "execution_count": null,
      "id": "56543afc",
      "metadata": {
        "id": "56543afc"
      },
      "outputs": [],
      "source": [
        "from concurrent.futures import Future\n",
        "\n",
        "futures: dict[str, Future | None] = {t: None for t in tables}"
      ]
    },
    {
      "cell_type": "code",
      "execution_count": null,
      "id": "36bf961b",
      "metadata": {
        "id": "36bf961b"
      },
      "outputs": [],
      "source": [
        "from collections.abc import Iterable\n",
        "from concurrent.futures import ThreadPoolExecutor\n",
        "\n",
        "def import_table(t):\n",
        "  print(f\"Importando tabla {t}...\")\n",
        "  csv_to_hbase(t.capitalize() + '.csv', t, 'rawdata')\n",
        "  return True\n",
        "\n",
        "def background_import_tables() -> Iterable[Future[bool]]:\n",
        "  e = ThreadPoolExecutor(len(tables))\n",
        "  _futures = map(lambda t: e.submit(import_table, t), tables)\n",
        "  return _futures\n",
        "\n",
        "if not any(futures.values()):\n",
        "  futures = dict(zip(tables, background_import_tables()))\n",
        "else:\n",
        "  print(f\"Futures running: {any(futures.values())}. If not running, put futures=None\",\n",
        "        \" and try again. This is to prevent running several works in background.\")"
      ]
    },
    {
      "cell_type": "markdown",
      "id": "171913ef",
      "metadata": {
        "id": "171913ef"
      },
      "source": [
        "La siguiente línea muestra los \"futures\" que todavía están ejecutándose. Cuando se haya importado todo, todos los futures pondrán su running a False. Mientras tanto podemos continuar con el resto del Notebook."
      ]
    },
    {
      "cell_type": "code",
      "execution_count": null,
      "id": "a767b2b5",
      "metadata": {
        "id": "a767b2b5"
      },
      "outputs": [],
      "source": [
        "f\"Futures running: {dict(zip(tables, [f.running() for f in futures.values()]))}.\""
      ]
    },
    {
      "cell_type": "code",
      "execution_count": null,
      "id": "88404e8e",
      "metadata": {
        "id": "88404e8e"
      },
      "outputs": [],
      "source": [
        "# Si no se está ejecutando en Google Colab, esperar a que terminen los trabajos en segundo plano.\n",
        "\n",
        "if not RunningInCOLAB:\n",
        "  from concurrent.futures import as_completed\n",
        "  for f in as_completed(futures.values()):\n",
        "    f.result()"
      ]
    },
    {
      "cell_type": "markdown",
      "id": "e9334863",
      "metadata": {
        "id": "e9334863"
      },
      "source": [
        "### Consultas sencillas desde Python\n",
        "\n",
        "A continuación veremos algunas consultas sencillas desde python usando el API de `happybase`.\n",
        "Obtener el Post con `Id` 5. La orden más sencilla e inmediata de HBase es obtener una fila, opcionalmente limitando las columnas a mostrar:"
      ]
    },
    {
      "cell_type": "code",
      "execution_count": null,
      "id": "ce190b59",
      "metadata": {
        "id": "ce190b59",
        "scrolled": true
      },
      "outputs": [],
      "source": [
        "# Muestra cómo queda la fila del Id del Post 5\n",
        "with pool.connection() as connection:\n",
        "    posts_table: Table = connection.table('posts')\n",
        "    pp(posts_table.row(b'5'))"
      ]
    },
    {
      "cell_type": "code",
      "execution_count": null,
      "id": "475bbd4e",
      "metadata": {
        "id": "475bbd4e"
      },
      "outputs": [],
      "source": [
        "with pool.connection() as connection:\n",
        "    posts_table: Table = connection.table('posts')\n",
        "    pp(posts_table.row(b'5',columns=[b'rawdata:Body']))"
      ]
    },
    {
      "cell_type": "code",
      "execution_count": null,
      "id": "0094a76c",
      "metadata": {
        "id": "0094a76c"
      },
      "outputs": [],
      "source": [
        "with pool.connection() as connection:\n",
        "    posts_table: Table = connection.table('posts')\n",
        "    pp(posts_table.row(b'5',columns=[b'rawdata:AnswerCount',b'rawdata:AcceptedAnswerId']))"
      ]
    },
    {
      "cell_type": "markdown",
      "id": "b19816ec",
      "metadata": {
        "id": "b19816ec"
      },
      "source": [
        "Y también se puede recorrer como un diccionario normal (el `decode` se utiliza para convertir los valores binarios de la base de datos a una codificación UTF-8):"
      ]
    },
    {
      "cell_type": "code",
      "execution_count": null,
      "id": "2fda1b87",
      "metadata": {
        "id": "2fda1b87"
      },
      "outputs": [],
      "source": [
        "with pool.connection() as connection:\n",
        "    posts_table: Table = connection.table('posts')\n",
        "    row: dict = posts_table.row(b'5')\n",
        "    for key, value in row.items():\n",
        "        print(\"Key = '%s', Value = '%s'\" % (key, value.decode()[:40]))"
      ]
    },
    {
      "cell_type": "markdown",
      "id": "401920c3",
      "metadata": {
        "id": "401920c3"
      },
      "source": [
        "Finalmente, también se puede recorrer toda la tabla estableciendo filtros, que se estudiarán después. Se utiliza la función `scan`. Se puede iterar con los parámetros `key` y `data`. Por ejemplo, calcular el tamaño máximo de la longitud del texto de los posts:\n",
        "\n",
        "**(OJO, es un ejemplo, no se debería hacer así)**"
      ]
    },
    {
      "cell_type": "code",
      "execution_count": null,
      "id": "25b2a989",
      "metadata": {
        "id": "25b2a989"
      },
      "outputs": [],
      "source": [
        "max_len = 0\n",
        "with pool.connection() as connection:\n",
        "    posts_table: Table = connection.table('posts')\n",
        "    for key, data in posts_table.scan():\n",
        "        cur_len = len(data[b'rawdata:Body'].decode())\n",
        "        if cur_len > max_len:\n",
        "            max_len = cur_len\n",
        "\n",
        "print(\"Máxima longitud: %s caracteres.\" % (max_len))"
      ]
    },
    {
      "cell_type": "markdown",
      "id": "e54dcf9c",
      "metadata": {
        "id": "e54dcf9c"
      },
      "source": [
        "### Construcción de estructuras anidadas\n",
        "\n",
        "Al igual que pasaba con MongoDB, las bases de datos NoSQL como en este caso HBase permiten almacenar estructuras de datos complejas. En nuestro caso vamos a agregar los comentarios de cada pregunta o respuesta (post) en columnas del mismo. Para ello, creamos una nueva familia de columnas `comments`.\n",
        "\n",
        "HBase es bueno para añadir columnas sencillas, por ejemplo que contengan un valor. Sin embargo, si queremos añadir objetos complejos, tenemos que jugar con la codificación de la familia de columnas y columna.\n",
        "\n",
        "Usaremos el shell porque `happybase` no permite alterar tablas ya creadas. Para acceder al shell de HBase, tenemos que contactar al contenedor `hbase-regionserver`, de esta forma:\n",
        "\n",
        "```bash\n",
        "hbase-$HBASE_VERSION/bin/hbase shell\n",
        "```\n",
        "\n",
        "En el `shell` de HBase pondremos lo siguiente:\n",
        "\n",
        "```\n",
        "disable 'posts'\n",
        "alter 'posts', {NAME => 'comments', VERSIONS => 1}\n",
        "enable 'posts'\n",
        "```\n",
        "\n",
        "Cada comentario que añadimos contiene, al menos:\n",
        "\n",
        "- un id único\n",
        "- un texto\n",
        "- un autor\n",
        "- etc.\n",
        "\n",
        "¿Cómo se consigue meterlo en una única familia de columnas?\n",
        "\n",
        "Hay varias formas. La que usaremos aquí, añadiremos el **id** de cada comentario como parte del nombre de la columna. Por ejemplo, el comentario con Id 2000, generará las columnas:\n",
        "\n",
        "- `Id_2000` (valor 2000)\n",
        "- `UserId_2000`\n",
        "- `PostId_2000`\n",
        "- `Text_2000`\n",
        "\n",
        "con sus correspondientes valores. Así, todos los datos relativos al comentario con Id original 2000, estarán almacenados en todas las columnas que terminen en \"`_2000`\".\n"
      ]
    },
    {
      "cell_type": "code",
      "execution_count": null,
      "id": "63b5e419",
      "metadata": {
        "id": "63b5e419"
      },
      "outputs": [],
      "source": [
        "%%sh\n",
        "\n",
        "cat <<EOF | hbase-$HBASE_VERSION/bin/hbase shell\n",
        "disable 'posts'\n",
        "alter 'posts', {NAME => 'comments', VERSIONS => 1}\n",
        "enable 'posts'\n",
        "exit\n",
        "EOF"
      ]
    },
    {
      "cell_type": "code",
      "execution_count": null,
      "id": "9f9c15f8",
      "metadata": {
        "id": "9f9c15f8",
        "scrolled": true
      },
      "outputs": [],
      "source": [
        "from typing import Any\n",
        "\n",
        "def gen_comments_for_posts() -> None:\n",
        "  with pool.connection() as connection:\n",
        "    comments_table: Table = connection.table('comments')\n",
        "    posts_table: Table = connection.table('posts')\n",
        "\n",
        "    with posts_table.batch(batch_size=500) as bp:\n",
        "      # Hacer un scan de la tabla\n",
        "      for key, data in comments_table.scan():\n",
        "        # Nótese que no pasamos nada a string, usamos siempre bytes para evitar millones de conversiones\n",
        "        comment: dict[bytes, Any] = \\\n",
        "            {b'comments:' + d.split(b':')[1] + b\"_\" + key :\n",
        "                   data[d] for d in data.keys()}\n",
        "        bp.put(data[b'rawdata:PostId'], comment)\n",
        "\n",
        "gen_comments_for_posts()"
      ]
    },
    {
      "cell_type": "markdown",
      "id": "5dafd993",
      "metadata": {
        "id": "5dafd993"
      },
      "source": [
        "Como un ejemplo, se puede ejecutar la siguiente celda:"
      ]
    },
    {
      "cell_type": "code",
      "execution_count": null,
      "id": "b2af24e1",
      "metadata": {
        "id": "b2af24e1",
        "scrolled": true
      },
      "outputs": [],
      "source": [
        "with pool.connection() as connection:\n",
        "    posts_table: Table = connection.table('posts')\n",
        "    pp(posts_table.row(b'7251'))"
      ]
    },
    {
      "cell_type": "markdown",
      "id": "df8d4690",
      "metadata": {
        "id": "df8d4690"
      },
      "source": [
        "## EJERCICIO: ¿Cómo sería el código para saber qué usuarios **diferentes** han comentado un post en particular?\n",
        "\n",
        "Definir una función que retorna el ID de los usuarios **diferentes** que han comentado en un post (OJO: se pasa como entero pero en la BD hay binarios, tened en cuenta la transformación):\n",
        "\n",
        "```python\n",
        "def users_commented_post(post_id: int) -> list[int]:\n",
        "   ...\n",
        "```"
      ]
    },
    {
      "cell_type": "markdown",
      "id": "1693048b",
      "metadata": {
        "id": "1693048b"
      },
      "source": [
        "Con la solución correcta, el siguiente código tiene que dar como salida `7666`."
      ]
    },
    {
      "cell_type": "code",
      "execution_count": null,
      "id": "628a6b14",
      "metadata": {
        "id": "628a6b14"
      },
      "outputs": [],
      "source": [
        "suma_count_post_7251: int = sum(users_commented_post(7251))\n",
        "assert suma_count_post_7251 == 7666\n",
        "suma_count_post_7251"
      ]
    },
    {
      "cell_type": "markdown",
      "id": "98ec4dd6",
      "metadata": {
        "id": "98ec4dd6"
      },
      "source": [
        "## EJERCICIO: Modificar la tabla `posts` para añadir una familia de columnas `votes` que guarde los votos de la tabla `votes`. La familia `votes` tendrá una columna con el Id de cada voto del post, cuyo valor será una representación en string JSON del voto en cuestión. Usar como ejemplo la función `gen_comments_from_posts`\n",
        "\n",
        "Como ejemplo, imaginemos un post con Id 28, que tiene dos votos, el post tendrá los campos:\n",
        "\n",
        "```python\n",
        "{b'rawdata:Id': b'28', ...,\n",
        " b'votes:3': b'{\"Id\": 3, \"BountyAmount\": X, ... }',\n",
        " b'votes:8': b'{\"Id\": 8, \"BountyAmount\": Y, ... }'\n",
        "}\n",
        "```\n",
        "\n",
        "(**CUIDADO**: Para pasar a JSON hay que decodificar desde binario a string los valores de las columnas y los valores)\n"
      ]
    },
    {
      "cell_type": "markdown",
      "id": "d62483a1",
      "metadata": {
        "id": "d62483a1"
      },
      "source": [
        "Si la solución es correcta, la siguiente consulta debe sacar un `'2'` como resultado."
      ]
    },
    {
      "cell_type": "code",
      "execution_count": null,
      "id": "b40140b3",
      "metadata": {
        "id": "b40140b3"
      },
      "outputs": [],
      "source": [
        "with pool.connection() as connection:\n",
        "    posts_table: Table = connection.table('posts')\n",
        "    pp(json.loads(posts_table.row(b'5',columns=[b'votes:64'])[b'votes:64'].decode())['VoteTypeId'])"
      ]
    }
  ],
  "metadata": {
    "colab": {
      "name": "bd2-sesion-hbase.ipynb",
      "provenance": []
    },
    "kernelspec": {
      "display_name": "Python 3 (ipykernel)",
      "language": "python",
      "name": "python3"
    },
    "language_info": {
      "codemirror_mode": {
        "name": "ipython",
        "version": 3
      },
      "file_extension": ".py",
      "mimetype": "text/x-python",
      "name": "python",
      "nbconvert_exporter": "python",
      "pygments_lexer": "ipython3",
      "version": "3.12.7"
    }
  },
  "nbformat": 4,
  "nbformat_minor": 5
}